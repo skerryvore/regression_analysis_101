{
  "nbformat": 4,
  "nbformat_minor": 0,
  "metadata": {
    "kernelspec": {
      "display_name": "Python 3",
      "language": "python",
      "name": "python3"
    },
    "language_info": {
      "codemirror_mode": {
        "name": "ipython",
        "version": 3
      },
      "file_extension": ".py",
      "mimetype": "text/x-python",
      "name": "python",
      "nbconvert_exporter": "python",
      "pygments_lexer": "ipython3",
      "version": "3.8.3"
    },
    "colab": {
      "name": "Copy of makgenyene_isochron.ipynb",
      "provenance": [],
      "include_colab_link": true
    }
  },
  "cells": [
    {
      "cell_type": "markdown",
      "metadata": {
        "id": "view-in-github",
        "colab_type": "text"
      },
      "source": [
        "<a href=\"https://colab.research.google.com/github/skerryvore/regression_analysis_101/blob/master/notebooks/makgenyene_isochron.ipynb\" target=\"_parent\"><img src=\"https://colab.research.google.com/assets/colab-badge.svg\" alt=\"Open In Colab\"/></a>"
      ]
    },
    {
      "cell_type": "markdown",
      "metadata": {
        "id": "NI6UjXAw0Cmq"
      },
      "source": [
        "# Isochron example: the Makgenyene kimberlite, South Africa\n",
        "\n",
        "The code in this notebook demonstrates analysis of Rb-Sr isotopic data and fitting an iscochron to data for mineral separates and whole rock samples from the Makgenyene kimberlite in South Africa (Brown et al. 1989).\n",
        "\n",
        "<i>Brown, R.W., Allsoppl, H.L., Bristow, J.W. and Smith, C.B., 1989. Improved precision of Rb-Sr dating of kimberlitic micas: An assessment of a leaching technique. Chemical Geology: Isotope Geoscience section, 79(2), pp.125-136.<i>\n",
        "https://doi.org/10.1016/0168-9622(89)90015-8\n",
        "    \n",
        "### To run the code, run each code cell sequentially. Select the first cell and press Shift-Enter (Return), or if you are running the notebook on Google Colab, you can also just click the wee run button (balck circle with a small white arrow icon, top left of cell)."
      ]
    },
    {
      "cell_type": "markdown",
      "metadata": {
        "id": "gYXw9CjF0Cmz"
      },
      "source": [
        "### The code in the first few cells just reads the data files, and prints the first few rows of the data tables to the screen."
      ]
    },
    {
      "cell_type": "code",
      "metadata": {
        "id": "h-jILIaO0Cm0",
        "outputId": "bfd442bc-fd57-4a05-d501-556a0a49b2d5",
        "colab": {
          "base_uri": "https://localhost:8080/",
          "height": 677
        }
      },
      "source": [
        "'''\n",
        "-------------------------------------------------------------------------------\n",
        "Notebook example of fitting an isochron to Rb-Sr data, using the dataset from the\n",
        "Makgenyene kimberlite, South Africa.\n",
        "\n",
        "Data are published in;\n",
        "\n",
        "Brown, R.W., Allsoppl, H.L., Bristow, J.W. and Smith, C.B., 1989. Improved precision\n",
        "of Rb-Sr dating of kimberlitic micas: An assessment of a leaching technique.\n",
        "Chemical Geology: Isotope Geoscience section, 79(2), pp.125-136.\n",
        "\n",
        "The isochron is fitted and ages calculated using ordinary least squares (OLS) and\n",
        "orthogonal direction regression (ODR), which takes account of errors in both the\n",
        "x and y values.\n",
        "\n",
        "The data set has been hard-coded here as python dictionaries so that the notebook is\n",
        "selfcontained, i.e. no data file is required. A more elegant way to deal with the data is\n",
        "of course to read the data from an Excel or csv file. Code to do this is included,\n",
        "but commented out below.\n",
        "\n",
        "------------------------------------------------------- Roderick Brown  24/10/2021\n",
        "'''\n",
        "%matplotlib inline\n",
        "\n",
        "import pandas as pd\n",
        "import numpy as np\n",
        "import matplotlib.pyplot as plt\n",
        "\n",
        "\n",
        "# Read csv files via link to github files online (needs internet)\n",
        "phl_df = pd.read_csv('https://raw.githubusercontent.com/skerryvore/regression_analysis_101/master/data/makgenyene_phlogopite.csv')\n",
        "wrk_df = pd.read_csv('https://raw.githubusercontent.com/skerryvore/regression_analysis_101/master/data/makgenyene_wholerock.csv')\n",
        "cbn_df = pd.read_csv('https://raw.githubusercontent.com/skerryvore/regression_analysis_101/master/data/makgenyene_carbonate.csv')\n",
        "\n",
        "# Print top 5 rows of phlogopite data table    \n",
        "phl_df.head(20)"
      ],
      "execution_count": 24,
      "outputs": [
        {
          "output_type": "execute_result",
          "data": {
            "text/html": [
              "<div>\n",
              "<style scoped>\n",
              "    .dataframe tbody tr th:only-of-type {\n",
              "        vertical-align: middle;\n",
              "    }\n",
              "\n",
              "    .dataframe tbody tr th {\n",
              "        vertical-align: top;\n",
              "    }\n",
              "\n",
              "    .dataframe thead th {\n",
              "        text-align: right;\n",
              "    }\n",
              "</style>\n",
              "<table border=\"1\" class=\"dataframe\">\n",
              "  <thead>\n",
              "    <tr style=\"text-align: right;\">\n",
              "      <th></th>\n",
              "      <th>Sample</th>\n",
              "      <th>Rb [ppm]</th>\n",
              "      <th>Rb_error</th>\n",
              "      <th>Sr [ppm]</th>\n",
              "      <th>Sr_error</th>\n",
              "      <th>87Rb/86Sr</th>\n",
              "      <th>Rb/Sr_error</th>\n",
              "      <th>87Sr/86Sr</th>\n",
              "      <th>2_sigma</th>\n",
              "      <th>1_sigma</th>\n",
              "    </tr>\n",
              "  </thead>\n",
              "  <tbody>\n",
              "    <tr>\n",
              "      <th>0</th>\n",
              "      <td>63-B2</td>\n",
              "      <td>511</td>\n",
              "      <td>4</td>\n",
              "      <td>35.70</td>\n",
              "      <td>0.5</td>\n",
              "      <td>41.80</td>\n",
              "      <td>0.29</td>\n",
              "      <td>0.781250</td>\n",
              "      <td>0.00024</td>\n",
              "      <td>0.000120</td>\n",
              "    </tr>\n",
              "    <tr>\n",
              "      <th>1</th>\n",
              "      <td>63-B3</td>\n",
              "      <td>463</td>\n",
              "      <td>4</td>\n",
              "      <td>29.80</td>\n",
              "      <td>0.4</td>\n",
              "      <td>45.40</td>\n",
              "      <td>0.32</td>\n",
              "      <td>0.787860</td>\n",
              "      <td>0.00060</td>\n",
              "      <td>0.000300</td>\n",
              "    </tr>\n",
              "    <tr>\n",
              "      <th>2</th>\n",
              "      <td>64-B1</td>\n",
              "      <td>485</td>\n",
              "      <td>4</td>\n",
              "      <td>911.00</td>\n",
              "      <td>13.7</td>\n",
              "      <td>1.54</td>\n",
              "      <td>0.01</td>\n",
              "      <td>0.712565</td>\n",
              "      <td>0.00007</td>\n",
              "      <td>0.000035</td>\n",
              "    </tr>\n",
              "    <tr>\n",
              "      <th>3</th>\n",
              "      <td>64-B2</td>\n",
              "      <td>556</td>\n",
              "      <td>4</td>\n",
              "      <td>43.90</td>\n",
              "      <td>0.7</td>\n",
              "      <td>37.00</td>\n",
              "      <td>0.26</td>\n",
              "      <td>0.772660</td>\n",
              "      <td>0.00060</td>\n",
              "      <td>0.000300</td>\n",
              "    </tr>\n",
              "    <tr>\n",
              "      <th>4</th>\n",
              "      <td>64-B3</td>\n",
              "      <td>497</td>\n",
              "      <td>4</td>\n",
              "      <td>15.30</td>\n",
              "      <td>0.2</td>\n",
              "      <td>96.00</td>\n",
              "      <td>0.67</td>\n",
              "      <td>0.897830</td>\n",
              "      <td>0.00084</td>\n",
              "      <td>0.000420</td>\n",
              "    </tr>\n",
              "    <tr>\n",
              "      <th>5</th>\n",
              "      <td>65-B1</td>\n",
              "      <td>492</td>\n",
              "      <td>4</td>\n",
              "      <td>1421.00</td>\n",
              "      <td>21.3</td>\n",
              "      <td>1.00</td>\n",
              "      <td>0.01</td>\n",
              "      <td>0.711700</td>\n",
              "      <td>0.00005</td>\n",
              "      <td>0.000025</td>\n",
              "    </tr>\n",
              "    <tr>\n",
              "      <th>6</th>\n",
              "      <td>65-B2a</td>\n",
              "      <td>504</td>\n",
              "      <td>4</td>\n",
              "      <td>188.00</td>\n",
              "      <td>2.8</td>\n",
              "      <td>7.76</td>\n",
              "      <td>0.05</td>\n",
              "      <td>0.723560</td>\n",
              "      <td>0.00012</td>\n",
              "      <td>0.000060</td>\n",
              "    </tr>\n",
              "    <tr>\n",
              "      <th>7</th>\n",
              "      <td>65-B2b</td>\n",
              "      <td>521</td>\n",
              "      <td>4</td>\n",
              "      <td>146.00</td>\n",
              "      <td>2.2</td>\n",
              "      <td>10.40</td>\n",
              "      <td>0.07</td>\n",
              "      <td>0.727800</td>\n",
              "      <td>0.00010</td>\n",
              "      <td>0.000050</td>\n",
              "    </tr>\n",
              "    <tr>\n",
              "      <th>8</th>\n",
              "      <td>65-B3</td>\n",
              "      <td>460</td>\n",
              "      <td>4</td>\n",
              "      <td>30.90</td>\n",
              "      <td>0.5</td>\n",
              "      <td>43.20</td>\n",
              "      <td>0.30</td>\n",
              "      <td>0.783750</td>\n",
              "      <td>0.00066</td>\n",
              "      <td>0.000330</td>\n",
              "    </tr>\n",
              "    <tr>\n",
              "      <th>9</th>\n",
              "      <td>66-G1</td>\n",
              "      <td>663</td>\n",
              "      <td>5</td>\n",
              "      <td>35.30</td>\n",
              "      <td>0.5</td>\n",
              "      <td>55.00</td>\n",
              "      <td>0.39</td>\n",
              "      <td>0.803320</td>\n",
              "      <td>0.00015</td>\n",
              "      <td>0.000075</td>\n",
              "    </tr>\n",
              "    <tr>\n",
              "      <th>10</th>\n",
              "      <td>66-G2</td>\n",
              "      <td>667</td>\n",
              "      <td>5</td>\n",
              "      <td>9.67</td>\n",
              "      <td>0.1</td>\n",
              "      <td>206.00</td>\n",
              "      <td>1.44</td>\n",
              "      <td>1.058960</td>\n",
              "      <td>0.00020</td>\n",
              "      <td>0.000100</td>\n",
              "    </tr>\n",
              "    <tr>\n",
              "      <th>11</th>\n",
              "      <td>66-G3</td>\n",
              "      <td>646</td>\n",
              "      <td>5</td>\n",
              "      <td>7.10</td>\n",
              "      <td>0.1</td>\n",
              "      <td>278.00</td>\n",
              "      <td>1.95</td>\n",
              "      <td>1.182800</td>\n",
              "      <td>0.00200</td>\n",
              "      <td>0.001000</td>\n",
              "    </tr>\n",
              "    <tr>\n",
              "      <th>12</th>\n",
              "      <td>66-B1</td>\n",
              "      <td>502</td>\n",
              "      <td>4</td>\n",
              "      <td>85.10</td>\n",
              "      <td>1.3</td>\n",
              "      <td>17.10</td>\n",
              "      <td>0.12</td>\n",
              "      <td>0.741110</td>\n",
              "      <td>0.00040</td>\n",
              "      <td>0.000200</td>\n",
              "    </tr>\n",
              "    <tr>\n",
              "      <th>13</th>\n",
              "      <td>66-B2a</td>\n",
              "      <td>474</td>\n",
              "      <td>4</td>\n",
              "      <td>17.90</td>\n",
              "      <td>0.3</td>\n",
              "      <td>75.50</td>\n",
              "      <td>0.53</td>\n",
              "      <td>0.843800</td>\n",
              "      <td>0.00180</td>\n",
              "      <td>0.000900</td>\n",
              "    </tr>\n",
              "    <tr>\n",
              "      <th>14</th>\n",
              "      <td>66-B2b</td>\n",
              "      <td>462</td>\n",
              "      <td>4</td>\n",
              "      <td>17.20</td>\n",
              "      <td>0.3</td>\n",
              "      <td>78.90</td>\n",
              "      <td>0.55</td>\n",
              "      <td>0.847100</td>\n",
              "      <td>0.00030</td>\n",
              "      <td>0.000150</td>\n",
              "    </tr>\n",
              "    <tr>\n",
              "      <th>15</th>\n",
              "      <td>66-B2c</td>\n",
              "      <td>463</td>\n",
              "      <td>4</td>\n",
              "      <td>48.20</td>\n",
              "      <td>0.7</td>\n",
              "      <td>27.90</td>\n",
              "      <td>0.20</td>\n",
              "      <td>0.758450</td>\n",
              "      <td>0.00013</td>\n",
              "      <td>0.000065</td>\n",
              "    </tr>\n",
              "    <tr>\n",
              "      <th>16</th>\n",
              "      <td>66-B3</td>\n",
              "      <td>456</td>\n",
              "      <td>4</td>\n",
              "      <td>7.12</td>\n",
              "      <td>0.1</td>\n",
              "      <td>191.00</td>\n",
              "      <td>1.34</td>\n",
              "      <td>1.034660</td>\n",
              "      <td>0.00084</td>\n",
              "      <td>0.000420</td>\n",
              "    </tr>\n",
              "    <tr>\n",
              "      <th>17</th>\n",
              "      <td>67-B2</td>\n",
              "      <td>407</td>\n",
              "      <td>3</td>\n",
              "      <td>12.60</td>\n",
              "      <td>0.2</td>\n",
              "      <td>95.00</td>\n",
              "      <td>0.67</td>\n",
              "      <td>0.872680</td>\n",
              "      <td>0.00050</td>\n",
              "      <td>0.000250</td>\n",
              "    </tr>\n",
              "    <tr>\n",
              "      <th>18</th>\n",
              "      <td>67-B3</td>\n",
              "      <td>390</td>\n",
              "      <td>3</td>\n",
              "      <td>14.90</td>\n",
              "      <td>0.2</td>\n",
              "      <td>78.00</td>\n",
              "      <td>0.55</td>\n",
              "      <td>0.842500</td>\n",
              "      <td>0.10000</td>\n",
              "      <td>0.050000</td>\n",
              "    </tr>\n",
              "    <tr>\n",
              "      <th>19</th>\n",
              "      <td>70-A1</td>\n",
              "      <td>490</td>\n",
              "      <td>4</td>\n",
              "      <td>23.20</td>\n",
              "      <td>0.3</td>\n",
              "      <td>61.60</td>\n",
              "      <td>0.43</td>\n",
              "      <td>0.813700</td>\n",
              "      <td>0.00300</td>\n",
              "      <td>0.001500</td>\n",
              "    </tr>\n",
              "  </tbody>\n",
              "</table>\n",
              "</div>"
            ],
            "text/plain": [
              "    Sample  Rb [ppm]  Rb_error  ...  87Sr/86Sr  2_sigma   1_sigma\n",
              "0    63-B2       511         4  ...   0.781250  0.00024  0.000120\n",
              "1    63-B3       463         4  ...   0.787860  0.00060  0.000300\n",
              "2    64-B1       485         4  ...   0.712565  0.00007  0.000035\n",
              "3    64-B2       556         4  ...   0.772660  0.00060  0.000300\n",
              "4    64-B3       497         4  ...   0.897830  0.00084  0.000420\n",
              "5    65-B1       492         4  ...   0.711700  0.00005  0.000025\n",
              "6   65-B2a       504         4  ...   0.723560  0.00012  0.000060\n",
              "7   65-B2b       521         4  ...   0.727800  0.00010  0.000050\n",
              "8    65-B3       460         4  ...   0.783750  0.00066  0.000330\n",
              "9    66-G1       663         5  ...   0.803320  0.00015  0.000075\n",
              "10   66-G2       667         5  ...   1.058960  0.00020  0.000100\n",
              "11   66-G3       646         5  ...   1.182800  0.00200  0.001000\n",
              "12   66-B1       502         4  ...   0.741110  0.00040  0.000200\n",
              "13  66-B2a       474         4  ...   0.843800  0.00180  0.000900\n",
              "14  66-B2b       462         4  ...   0.847100  0.00030  0.000150\n",
              "15  66-B2c       463         4  ...   0.758450  0.00013  0.000065\n",
              "16   66-B3       456         4  ...   1.034660  0.00084  0.000420\n",
              "17   67-B2       407         3  ...   0.872680  0.00050  0.000250\n",
              "18   67-B3       390         3  ...   0.842500  0.10000  0.050000\n",
              "19   70-A1       490         4  ...   0.813700  0.00300  0.001500\n",
              "\n",
              "[20 rows x 10 columns]"
            ]
          },
          "metadata": {},
          "execution_count": 24
        }
      ]
    },
    {
      "cell_type": "code",
      "metadata": {
        "id": "-yehWvfg0Cm5",
        "outputId": "c9b67624-8d6e-4ed1-c094-0c765df5471a",
        "colab": {
          "base_uri": "https://localhost:8080/",
          "height": 112
        }
      },
      "source": [
        "# Print top 2 rows of wholerock data table \n",
        "wrk_df.head(2)\n"
      ],
      "execution_count": 14,
      "outputs": [
        {
          "output_type": "execute_result",
          "data": {
            "text/html": [
              "<div>\n",
              "<style scoped>\n",
              "    .dataframe tbody tr th:only-of-type {\n",
              "        vertical-align: middle;\n",
              "    }\n",
              "\n",
              "    .dataframe tbody tr th {\n",
              "        vertical-align: top;\n",
              "    }\n",
              "\n",
              "    .dataframe thead th {\n",
              "        text-align: right;\n",
              "    }\n",
              "</style>\n",
              "<table border=\"1\" class=\"dataframe\">\n",
              "  <thead>\n",
              "    <tr style=\"text-align: right;\">\n",
              "      <th></th>\n",
              "      <th>Sample</th>\n",
              "      <th>Rb [ppm]</th>\n",
              "      <th>Rb_error</th>\n",
              "      <th>Sr [ppm]</th>\n",
              "      <th>Sr_error</th>\n",
              "      <th>87Rb/86Sr</th>\n",
              "      <th>Rb/Sr_error</th>\n",
              "      <th>87Sr/86Sr</th>\n",
              "      <th>2_sigma</th>\n",
              "      <th>1_sigma</th>\n",
              "    </tr>\n",
              "  </thead>\n",
              "  <tbody>\n",
              "    <tr>\n",
              "      <th>0</th>\n",
              "      <td>WR 64</td>\n",
              "      <td>95.2</td>\n",
              "      <td>1</td>\n",
              "      <td>142</td>\n",
              "      <td>2.1</td>\n",
              "      <td>1.94</td>\n",
              "      <td>0.014</td>\n",
              "      <td>0.71431</td>\n",
              "      <td>0.00014</td>\n",
              "      <td>0.000070</td>\n",
              "    </tr>\n",
              "    <tr>\n",
              "      <th>1</th>\n",
              "      <td>WR 65</td>\n",
              "      <td>169.0</td>\n",
              "      <td>1</td>\n",
              "      <td>892</td>\n",
              "      <td>13.4</td>\n",
              "      <td>0.55</td>\n",
              "      <td>0.004</td>\n",
              "      <td>0.71034</td>\n",
              "      <td>0.00011</td>\n",
              "      <td>0.000055</td>\n",
              "    </tr>\n",
              "  </tbody>\n",
              "</table>\n",
              "</div>"
            ],
            "text/plain": [
              "  Sample  Rb [ppm]  Rb_error  ...  87Sr/86Sr  2_sigma   1_sigma\n",
              "0  WR 64      95.2         1  ...    0.71431  0.00014  0.000070\n",
              "1  WR 65     169.0         1  ...    0.71034  0.00011  0.000055\n",
              "\n",
              "[2 rows x 10 columns]"
            ]
          },
          "metadata": {},
          "execution_count": 14
        }
      ]
    },
    {
      "cell_type": "code",
      "metadata": {
        "id": "AyGWoXBo0Cm8",
        "outputId": "ea2f5f47-d137-4ff0-817d-4494b8273c9c",
        "colab": {
          "base_uri": "https://localhost:8080/",
          "height": 175
        }
      },
      "source": [
        "# Print top 4 rows of carbonate sample data table \n",
        "cbn_df.head(5)"
      ],
      "execution_count": 15,
      "outputs": [
        {
          "output_type": "execute_result",
          "data": {
            "text/html": [
              "<div>\n",
              "<style scoped>\n",
              "    .dataframe tbody tr th:only-of-type {\n",
              "        vertical-align: middle;\n",
              "    }\n",
              "\n",
              "    .dataframe tbody tr th {\n",
              "        vertical-align: top;\n",
              "    }\n",
              "\n",
              "    .dataframe thead th {\n",
              "        text-align: right;\n",
              "    }\n",
              "</style>\n",
              "<table border=\"1\" class=\"dataframe\">\n",
              "  <thead>\n",
              "    <tr style=\"text-align: right;\">\n",
              "      <th></th>\n",
              "      <th>Sample</th>\n",
              "      <th>Rb [ppm]</th>\n",
              "      <th>Rb_error</th>\n",
              "      <th>Sr [ppm]</th>\n",
              "      <th>Sr_error</th>\n",
              "      <th>87Rb/86Sr</th>\n",
              "      <th>Rb/Sr_error</th>\n",
              "      <th>87Sr/86Sr</th>\n",
              "      <th>2_sigma</th>\n",
              "      <th>1_sigma</th>\n",
              "    </tr>\n",
              "  </thead>\n",
              "  <tbody>\n",
              "    <tr>\n",
              "      <th>0</th>\n",
              "      <td>CC 02</td>\n",
              "      <td>0.24</td>\n",
              "      <td>0.002</td>\n",
              "      <td>348.0</td>\n",
              "      <td>5.2</td>\n",
              "      <td>0.002</td>\n",
              "      <td>0.000</td>\n",
              "      <td>0.717130</td>\n",
              "      <td>0.00028</td>\n",
              "      <td>0.000140</td>\n",
              "    </tr>\n",
              "    <tr>\n",
              "      <th>1</th>\n",
              "      <td>DX 01</td>\n",
              "      <td>1.20</td>\n",
              "      <td>0.010</td>\n",
              "      <td>118.0</td>\n",
              "      <td>1.8</td>\n",
              "      <td>0.030</td>\n",
              "      <td>0.000</td>\n",
              "      <td>0.714650</td>\n",
              "      <td>0.00009</td>\n",
              "      <td>0.000045</td>\n",
              "    </tr>\n",
              "    <tr>\n",
              "      <th>2</th>\n",
              "      <td>DX 02</td>\n",
              "      <td>1.31</td>\n",
              "      <td>0.010</td>\n",
              "      <td>16.6</td>\n",
              "      <td>0.2</td>\n",
              "      <td>0.230</td>\n",
              "      <td>0.002</td>\n",
              "      <td>0.714373</td>\n",
              "      <td>0.00024</td>\n",
              "      <td>0.000120</td>\n",
              "    </tr>\n",
              "    <tr>\n",
              "      <th>3</th>\n",
              "      <td>TD 01</td>\n",
              "      <td>1.06</td>\n",
              "      <td>0.008</td>\n",
              "      <td>10.6</td>\n",
              "      <td>0.2</td>\n",
              "      <td>0.290</td>\n",
              "      <td>0.002</td>\n",
              "      <td>0.719440</td>\n",
              "      <td>0.00048</td>\n",
              "      <td>0.000240</td>\n",
              "    </tr>\n",
              "  </tbody>\n",
              "</table>\n",
              "</div>"
            ],
            "text/plain": [
              "  Sample  Rb [ppm]  Rb_error  ...  87Sr/86Sr  2_sigma   1_sigma\n",
              "0  CC 02      0.24     0.002  ...   0.717130  0.00028  0.000140\n",
              "1  DX 01      1.20     0.010  ...   0.714650  0.00009  0.000045\n",
              "2  DX 02      1.31     0.010  ...   0.714373  0.00024  0.000120\n",
              "3  TD 01      1.06     0.008  ...   0.719440  0.00048  0.000240\n",
              "\n",
              "[4 rows x 10 columns]"
            ]
          },
          "metadata": {},
          "execution_count": 15
        }
      ]
    },
    {
      "cell_type": "markdown",
      "metadata": {
        "id": "nFJBCKDg0Cm9"
      },
      "source": [
        "### Code in the next cell will plot a graph of 87Sr/86Sr versus 1/Sr concentration as a way of inspecting/evaluating Sr contamination from carbonate. Carbonate typically has very high Sr, because Sr behaves chemically like Ca, and so samples with low background Sr values show the effect of contamination most. In this case the potential carbonate contamonation is from crustal carbonate which has high 87Sr/86Sr of c. 0.71+\n"
      ]
    },
    {
      "cell_type": "code",
      "metadata": {
        "id": "_-3ymKXj0Cm9",
        "outputId": "aa69407f-542d-468b-963f-133e2a26a0fe",
        "colab": {
          "base_uri": "https://localhost:8080/",
          "height": 501
        }
      },
      "source": [
        "\n",
        "# Plot 87Sr/86Sr versus 1/total Sr\n",
        "fig1, ax1 = plt.subplots(figsize=(10,8)) \n",
        "\n",
        "ax1.set_ylabel(\"87Sr/86Sr\",fontsize='x-large')\n",
        "ax1.set_xlabel(\"1/Sr [ppm]\",fontsize='x-large')\n",
        "\n",
        "ax1.scatter(np.array(phl_df['87Sr/86Sr']), 1/np.array(phl_df['Sr [ppm]']), label='phologopites')\n",
        "ax1.scatter(np.array(wrk_df['87Sr/86Sr']), 1/np.array(wrk_df['Sr [ppm]']), label='whole rock')\n",
        "ax1.scatter(np.array(cbn_df['87Sr/86Sr']), 1/np.array(cbn_df['Sr [ppm]']), label='carbonates')\n",
        "\n",
        "ax1.legend(loc='lower right',fontsize='x-large')\n",
        "\n",
        "plt.show(fig1)\n",
        "\n"
      ],
      "execution_count": 16,
      "outputs": [
        {
          "output_type": "display_data",
          "data": {
            "image/png": "[encoded data removed]",
            "text/plain": [
              "<Figure size 720x576 with 1 Axes>"
            ]
          },
          "metadata": {
            "needs_background": "light"
          }
        }
      ]
    },
    {
      "cell_type": "markdown",
      "metadata": {
        "id": "XSLe6_sR0Cm_"
      },
      "source": [
        "### Plot an isochron diagram for the data, and evaluate whether a straight line fit is likely to produce a sensible age?"
      ]
    },
    {
      "cell_type": "code",
      "metadata": {
        "id": "M7pvuFOS0CnA",
        "outputId": "fe914e65-e2b8-49a8-d8ff-51dfe74a402d",
        "colab": {
          "base_uri": "https://localhost:8080/",
          "height": 501
        }
      },
      "source": [
        "# Plot isochron diagram, 87Sr/86Sr on y-axis versus 87Rb/86Sr on the x-axis\n",
        "\n",
        "fig2, ax1 = plt.subplots(figsize=(10,8)) \n",
        "\n",
        "ax1.set_ylabel(\"87Sr/86Sr\", fontsize='x-large')\n",
        "ax1.set_xlabel(\"87Rb/86Sr\", fontsize='x-large')\n",
        "\n",
        "ax1.scatter(np.array(phl_df['87Rb/86Sr']), np.array(phl_df['87Sr/86Sr']), label='phlogopites')\n",
        "ax1.scatter(np.array(wrk_df['87Rb/86Sr']), np.array(wrk_df['87Sr/86Sr']), label='whole rock')\n",
        "ax1.scatter(np.array(cbn_df['87Rb/86Sr']), np.array(cbn_df['87Sr/86Sr']), label='carbonates')\n",
        "ax1.legend(loc='lower right')\n",
        "\n",
        "plt.show()"
      ],
      "execution_count": 17,
      "outputs": [
        {
          "output_type": "display_data",
          "data": {
            "image/png": "[encoded data removed]",
            "text/plain": [
              "<Figure size 720x576 with 1 Axes>"
            ]
          },
          "metadata": {
            "needs_background": "light"
          }
        }
      ]
    },
    {
      "cell_type": "markdown",
      "metadata": {
        "id": "Yl53Q3-r0CnB"
      },
      "source": [
        "### To fit a straight line, i.e. an isochron, model to the data plotted above we can use a simple linear regression approach which will estimate the \"best fit\" line and return the slope and intercept values for the fitted line. The code below calls the scipy Ordinary Least Squares routine called <b>stats.linregress</b> and writes some useful values to the screen."
      ]
    },
    {
      "cell_type": "code",
      "metadata": {
        "id": "flYCJMcn0CnB",
        "outputId": "b4eb2802-b3ee-43ce-b19a-4171da7c588d",
        "colab": {
          "base_uri": "https://localhost:8080/"
        }
      },
      "source": [
        "# Fit isochron using ordinary least squares regression\n",
        "\n",
        "from scipy import stats\n",
        "\n",
        "# Create some 1D arrays called x,y, xerr, and yerr for simplicity\n",
        "x = np.array(phl_df['87Rb/86Sr'])\n",
        "y = np.array(phl_df['87Sr/86Sr'])\n",
        "xerr = np.array(phl_df['Rb/Sr_error'])\n",
        "yerr = np.array(phl_df['1_sigma'])\n",
        "\n",
        "# Call the scipy.stats.linregress routine with x and y arrays (defined above) as arguments\n",
        "slope, intercept, r_value, p_value, std_err = stats.linregress(x,y)\n",
        "\n",
        "# Print some of the returned values of interest\n",
        "print (f'OLS slope: {slope:10.8f} +/- {std_err:10.8f}')\n",
        "print (f'OLS intercept: {intercept:08.6f}')\n",
        "print (f'R^2 value: {r_value**2:06.4f}')\n",
        "print (f'p value: {p_value:08.6f}')\n"
      ],
      "execution_count": 18,
      "outputs": [
        {
          "output_type": "stream",
          "name": "stdout",
          "text": [
            "OLS slope: 0.00171679 +/- 0.00001738\n",
            "OLS intercept: 0.711082\n",
            "R^2 value: 0.9981\n",
            "p value: 0.000000\n"
          ]
        }
      ]
    },
    {
      "cell_type": "markdown",
      "metadata": {
        "id": "GsMguDAs0CnD"
      },
      "source": [
        "### We can use the estimated slope value for the line fitted using least squares regression to calculate the age of the kimblerlite. \n",
        "\n",
        "### To calculate the age, $t$ after we determine the slope of the isochron line we can use this equation;\n",
        "\n",
        "\\begin{align}\n",
        " t = \\ln \\left (\\frac{slope+1}{\\lambda}\\right)\n",
        "\\end{align}\n",
        "\n",
        "### where $\\ln$ means the natural logarithm, and $\\lambda$ is the decay constant for $^{87}\\mathrm{Rb}$.\n"
      ]
    },
    {
      "cell_type": "code",
      "metadata": {
        "id": "gNHT5fSH0CnE",
        "outputId": "90a2f016-58c7-464a-c3e1-dd375dba431b",
        "colab": {
          "base_uri": "https://localhost:8080/"
        }
      },
      "source": [
        "# Calculate the age in My using the slope\n",
        "lamda87Rb = 1.419E-11 # decay constant for 87Rb in 1/yr\n",
        "\n",
        "age = (np.log(slope +1)/lamda87Rb) /1.E6\n",
        "\n",
        "# Calculate the error on the age from the estimated std_err on the slope\n",
        "relative_err = std_err/slope   # calculate the relative error\n",
        "age_err_ols = age*relative_err # calculate the absolute error on the age\n",
        "\n",
        "print (f'Age: {age:06.2f} +/- {age_err_ols:3.2f} Ma')\n"
      ],
      "execution_count": 19,
      "outputs": [
        {
          "output_type": "stream",
          "name": "stdout",
          "text": [
            "Age: 120.88 +/- 1.22 Ma\n"
          ]
        }
      ]
    },
    {
      "cell_type": "markdown",
      "metadata": {
        "id": "V5HdFuu90CnF"
      },
      "source": [
        "### And now let's plot the fitted isochron model line and the data together on an isochron diagram."
      ]
    },
    {
      "cell_type": "code",
      "metadata": {
        "id": "HdbfRjAv0CnF",
        "outputId": "f28cb49e-2df8-4dea-b121-21e56b0e0336",
        "colab": {
          "base_uri": "https://localhost:8080/",
          "height": 501
        }
      },
      "source": [
        "# Plot the isochron diagram and the fitted line, and print the useful values\n",
        "\n",
        "fig3, ax1 = plt.subplots(figsize=(10,8)) \n",
        "\n",
        "ax1.set_ylabel(\"87Sr/86Sr\", fontsize='x-large')\n",
        "ax1.set_xlabel(\"87Rb/86Sr\", fontsize='x-large')\n",
        "\n",
        "# Plot the data points\n",
        "ax1.scatter(np.array(phl_df['87Rb/86Sr']), np.array(phl_df['87Sr/86Sr']), label='phlogopites')\n",
        "ax1.scatter(np.array(wrk_df['87Rb/86Sr']), np.array(wrk_df['87Sr/86Sr']), label='whole rock')\n",
        "ax1.scatter(np.array(cbn_df['87Rb/86Sr']), np.array(cbn_df['87Sr/86Sr']), label='carbonates')\n",
        "ax1.legend(fontsize='x-large',loc='lower right')\n",
        "\n",
        "# Plot the fitted isochron line\n",
        "plt.plot(x,((x*slope) + intercept), 'r-',label='OLS regression line') # Plot the fitted line\n",
        "\n",
        "# Write the stats for the fitted line on the graph\n",
        "plt.text(5.,1.05,\\\n",
        "f'slope: {slope:10.8f} +/- {std_err:10.8f}\\n\\\n",
        "intercept: {intercept:08.6f}\\n \\\n",
        "R value: {r_value**2:8.4f}\\n \\\n",
        "p value: {p_value:04.2f}\\n \\\n",
        "Age: {age:06.2f} +/- {age_err_ols:3.2f} Ma',fontsize='14')\n",
        "\n",
        "# Write plot to pdf file. Change file extension to *.png or *.tif as required)\n",
        "#plt.savefig('makgenyene_isochron.pdf', format='pdf')\n",
        "\n",
        "# Show the plot on screen\n",
        "plt.show()\n"
      ],
      "execution_count": 20,
      "outputs": [
        {
          "output_type": "display_data",
          "data": {
            "image/png": "[encoded data removed]",
            "text/plain": [
              "<Figure size 720x576 with 1 Axes>"
            ]
          },
          "metadata": {
            "needs_background": "light"
          }
        }
      ]
    },
    {
      "cell_type": "markdown",
      "metadata": {
        "id": "T_-00tP7_uVq"
      },
      "source": [
        "### Note that there is one sample point that lies significantly above the isochron line, it is sample 64-B3 (with a 87Rb/86Sr value of c. 100 and an 87Sr/86Sr value of c. 0.9). This is one of the samples that was etched severley and may be indicating it has lost Rb? Let's rerun the analysis excluding this sample, and see if it makes a difference. The code in the next cell will make a copy of the phlogopite data, but will exclude sample 64-B3. "
      ]
    },
    {
      "cell_type": "code",
      "metadata": {
        "id": "ZPxXaF7Q9J46",
        "outputId": "9759938f-b4a9-41d8-8325-a1ea39f8dfab",
        "colab": {
          "base_uri": "https://localhost:8080/",
          "height": 238
        }
      },
      "source": [
        "# Copy the phlogopite dataframe, but exclude the row for sample 64-B3\n",
        "phl_df_new = phl_df[(phl_df.Sample != '64-B3')]\n",
        "\n",
        "excluded_df = phl_df[(phl_df.Sample == '64-B3')] # Save a copy of 64-B3 to plot separately\n",
        "\n",
        "phl_df_new.head(6)\n",
        "                     "
      ],
      "execution_count": 36,
      "outputs": [
        {
          "output_type": "execute_result",
          "data": {
            "text/html": [
              "<div>\n",
              "<style scoped>\n",
              "    .dataframe tbody tr th:only-of-type {\n",
              "        vertical-align: middle;\n",
              "    }\n",
              "\n",
              "    .dataframe tbody tr th {\n",
              "        vertical-align: top;\n",
              "    }\n",
              "\n",
              "    .dataframe thead th {\n",
              "        text-align: right;\n",
              "    }\n",
              "</style>\n",
              "<table border=\"1\" class=\"dataframe\">\n",
              "  <thead>\n",
              "    <tr style=\"text-align: right;\">\n",
              "      <th></th>\n",
              "      <th>Sample</th>\n",
              "      <th>Rb [ppm]</th>\n",
              "      <th>Rb_error</th>\n",
              "      <th>Sr [ppm]</th>\n",
              "      <th>Sr_error</th>\n",
              "      <th>87Rb/86Sr</th>\n",
              "      <th>Rb/Sr_error</th>\n",
              "      <th>87Sr/86Sr</th>\n",
              "      <th>2_sigma</th>\n",
              "      <th>1_sigma</th>\n",
              "    </tr>\n",
              "  </thead>\n",
              "  <tbody>\n",
              "    <tr>\n",
              "      <th>0</th>\n",
              "      <td>63-B2</td>\n",
              "      <td>511</td>\n",
              "      <td>4</td>\n",
              "      <td>35.7</td>\n",
              "      <td>0.5</td>\n",
              "      <td>41.80</td>\n",
              "      <td>0.29</td>\n",
              "      <td>0.781250</td>\n",
              "      <td>0.00024</td>\n",
              "      <td>0.000120</td>\n",
              "    </tr>\n",
              "    <tr>\n",
              "      <th>1</th>\n",
              "      <td>63-B3</td>\n",
              "      <td>463</td>\n",
              "      <td>4</td>\n",
              "      <td>29.8</td>\n",
              "      <td>0.4</td>\n",
              "      <td>45.40</td>\n",
              "      <td>0.32</td>\n",
              "      <td>0.787860</td>\n",
              "      <td>0.00060</td>\n",
              "      <td>0.000300</td>\n",
              "    </tr>\n",
              "    <tr>\n",
              "      <th>2</th>\n",
              "      <td>64-B1</td>\n",
              "      <td>485</td>\n",
              "      <td>4</td>\n",
              "      <td>911.0</td>\n",
              "      <td>13.7</td>\n",
              "      <td>1.54</td>\n",
              "      <td>0.01</td>\n",
              "      <td>0.712565</td>\n",
              "      <td>0.00007</td>\n",
              "      <td>0.000035</td>\n",
              "    </tr>\n",
              "    <tr>\n",
              "      <th>3</th>\n",
              "      <td>64-B2</td>\n",
              "      <td>556</td>\n",
              "      <td>4</td>\n",
              "      <td>43.9</td>\n",
              "      <td>0.7</td>\n",
              "      <td>37.00</td>\n",
              "      <td>0.26</td>\n",
              "      <td>0.772660</td>\n",
              "      <td>0.00060</td>\n",
              "      <td>0.000300</td>\n",
              "    </tr>\n",
              "    <tr>\n",
              "      <th>5</th>\n",
              "      <td>65-B1</td>\n",
              "      <td>492</td>\n",
              "      <td>4</td>\n",
              "      <td>1421.0</td>\n",
              "      <td>21.3</td>\n",
              "      <td>1.00</td>\n",
              "      <td>0.01</td>\n",
              "      <td>0.711700</td>\n",
              "      <td>0.00005</td>\n",
              "      <td>0.000025</td>\n",
              "    </tr>\n",
              "    <tr>\n",
              "      <th>6</th>\n",
              "      <td>65-B2a</td>\n",
              "      <td>504</td>\n",
              "      <td>4</td>\n",
              "      <td>188.0</td>\n",
              "      <td>2.8</td>\n",
              "      <td>7.76</td>\n",
              "      <td>0.05</td>\n",
              "      <td>0.723560</td>\n",
              "      <td>0.00012</td>\n",
              "      <td>0.000060</td>\n",
              "    </tr>\n",
              "  </tbody>\n",
              "</table>\n",
              "</div>"
            ],
            "text/plain": [
              "   Sample  Rb [ppm]  Rb_error  ...  87Sr/86Sr  2_sigma   1_sigma\n",
              "0   63-B2       511         4  ...   0.781250  0.00024  0.000120\n",
              "1   63-B3       463         4  ...   0.787860  0.00060  0.000300\n",
              "2   64-B1       485         4  ...   0.712565  0.00007  0.000035\n",
              "3   64-B2       556         4  ...   0.772660  0.00060  0.000300\n",
              "5   65-B1       492         4  ...   0.711700  0.00005  0.000025\n",
              "6  65-B2a       504         4  ...   0.723560  0.00012  0.000060\n",
              "\n",
              "[6 rows x 10 columns]"
            ]
          },
          "metadata": {},
          "execution_count": 36
        }
      ]
    },
    {
      "cell_type": "markdown",
      "metadata": {
        "id": "4ECLs6LwAhl6"
      },
      "source": [
        "### Now let's rerun the analysis, and plot the new isochron diagram and look at the estimated age and associated errors. Is this new age estimate different?"
      ]
    },
    {
      "cell_type": "code",
      "metadata": {
        "id": "cwTUD411-OyS",
        "outputId": "6e232b51-47e0-4ac0-b5a7-74f65860ca3b",
        "colab": {
          "base_uri": "https://localhost:8080/",
          "height": 630
        }
      },
      "source": [
        "# Create new 1D arrays called x,y, xerr, and yerr for simplicity\n",
        "x = np.array(phl_df_new['87Rb/86Sr'])\n",
        "y = np.array(phl_df_new['87Sr/86Sr'])\n",
        "xerr = np.array(phl_df_new['Rb/Sr_error'])\n",
        "yerr = np.array(phl_df_new['1_sigma'])\n",
        "\n",
        "# Call the scipy.stats.linregress routine with x and y arrays (defined above) as arguments\n",
        "slope, intercept, r_value, p_value, std_err = stats.linregress(x,y)\n",
        "\n",
        "# Print some of the returned values of interest\n",
        "print ('New values excluding sample 64-B3\\n--------------------------------')\n",
        "print (f'OLS slope: {slope:10.8f} +/- {std_err:10.8f}')\n",
        "print (f'OLS intercept: {intercept:08.6f}')\n",
        "print (f'R^2 value: {r_value**2:06.4f}')\n",
        "print (f'p value: {p_value:08.6f}')\n",
        "\n",
        "age = (np.log(slope +1)/lamda87Rb) /1.E6\n",
        "\n",
        "# Calculate the error on the age from the estimated std_err on the slope\n",
        "relative_err = std_err/slope   # calculate the relative error\n",
        "age_err_ols = age*relative_err # calculate the absolute error on the age\n",
        "\n",
        "print (f'Age: {age:06.2f} +/- {age_err_ols:3.2f} Ma')\n",
        "\n",
        "# Plot the isochron diagram and the fitted line, and print the useful values\n",
        "\n",
        "fig31, ax1 = plt.subplots(figsize=(10,8)) \n",
        "\n",
        "ax1.set_ylabel(\"87Sr/86Sr\", fontsize='x-large')\n",
        "ax1.set_xlabel(\"87Rb/86Sr\", fontsize='x-large')\n",
        "\n",
        "# Plot the data points\n",
        "ax1.scatter(np.array(phl_df_new['87Rb/86Sr']), np.array(phl_df_new['87Sr/86Sr']), label='phlogopites')\n",
        "ax1.scatter(np.array(excluded_df['87Rb/86Sr']), np.array(excluded_df['87Sr/86Sr']), color='red', label='excluded samples')\n",
        "\n",
        "ax1.legend(fontsize='x-large',loc='lower right')\n",
        "\n",
        "# Plot the fitted isochron line\n",
        "plt.plot(x,((x*slope) + intercept), 'r-',label='OLS regression line') # Plot the fitted line\n",
        "\n",
        "# Write the stats for the fitted line on the graph\n",
        "plt.text(5.,1.05,\\\n",
        "f'slope: {slope:10.8f} +/- {std_err:10.8f}\\n\\\n",
        "intercept: {intercept:08.6f}\\n \\\n",
        "R value: {r_value**2:8.4f}\\n \\\n",
        "p value: {p_value:04.2f}\\n \\\n",
        "Age: {age:06.2f} +/- {age_err_ols:3.2f} Ma',fontsize='14')\n",
        "\n",
        "# Write plot to pdf file. Change file extension to *.png or *.tif as required)\n",
        "#plt.savefig('makgenyene_isochron.pdf', format='pdf')\n",
        "\n",
        "# Show the plot on screen\n",
        "plt.show()\n"
      ],
      "execution_count": 40,
      "outputs": [
        {
          "output_type": "stream",
          "name": "stdout",
          "text": [
            "New values excluding sample 64-B3\n",
            "--------------------------------\n",
            "OLS slope: 0.00171366 +/- 0.00000950\n",
            "OLS intercept: 0.710231\n",
            "R^2 value: 0.9994\n",
            "p value: 0.000000\n",
            "Age: 120.66 +/- 0.67 Ma\n"
          ]
        },
        {
          "output_type": "display_data",
          "data": {
            "image/png": "[encoded data removed]",
            "text/plain": [
              "<Figure size 720x576 with 1 Axes>"
            ]
          },
          "metadata": {
            "needs_background": "light"
          }
        }
      ]
    },
    {
      "cell_type": "markdown",
      "metadata": {
        "id": "o3T3pA2T0CnG"
      },
      "source": [
        "### The problem with simple ordinary least squares regression is that it does not account for the measurement uncertainties on the measured data, and the estimated standard errpr on the slope is only based on the variance from a perfect straight line. There are other regression methods we can use that DO take account of the measurement uncertainties on the data, and the fitted line and the estimated uncertainties take account of these explicitly. \n",
        "\n",
        "### The code in the next cell applies Orthogonal Direction Regression (ODR) to fit the isochron and reports the slope, initial ratio and the age all with estimated uncertainties. These model parameters, and their respective uncertainties, are based on the data and the uncertainties on the data."
      ]
    },
    {
      "cell_type": "code",
      "metadata": {
        "id": "D1TA-_PG0CnG",
        "outputId": "9d09e872-420a-4a5a-e404-279689d929a4",
        "colab": {
          "base_uri": "https://localhost:8080/"
        }
      },
      "source": [
        "import scipy.odr.odrpack as odrpack\n",
        "\n",
        "# Scipy's ODR, Orthogonal Distance Regression library (errors on x, y data included)\n",
        "#-----------------------------------------------------------\n",
        "\n",
        "def linear(B,x): # linear model with B[0] as slope and B[1] as intercept\n",
        "    return(B[0]*x + B[1])\n",
        "\n",
        "# Do ODR regression\n",
        "#---------------------------------------------------------------------\n",
        "# Instantiate a model object using the spherical model defined above\n",
        "model = odrpack.Model(linear)\n",
        "\n",
        "# Instantiate a real data object to hold the observed data\n",
        "data = odrpack.RealData(x, y, sx=xerr, sy=yerr)\n",
        "\n",
        "# Pass data object and spherical model object to ODR solver\n",
        "odrsolver = odrpack.ODR(data, model, beta0=[1.,1.])\n",
        "\n",
        "# Run the ODR object and store output in myoutput#\n",
        "myoutput = odrsolver.run()\n",
        "\n",
        "# Print summary of output of ODR to stdout (i.e. screen)\n",
        "#myoutput.pprint()\n",
        "\n",
        "# Extract some useful stats and store them in named variables to use later\n",
        "slope_odr=myoutput.beta[0]\n",
        "err_slope_odr=myoutput.sd_beta[0]\n",
        "intercept_odr=myoutput.beta[1]\n",
        "err_intercept_odr=myoutput.sd_beta[1]\n",
        "\n",
        "# Calculate fitted value of y at each x location, and the residuals\n",
        "# at each location using optimum parameters returned by ODR regression\n",
        "\n",
        "modelY = []\n",
        "residuals = []\n",
        "for i in range (0,len(x)):\n",
        "     modelY.append(intercept_odr + slope_odr*x[i])\n",
        "     residuals.append(modelY[i]-y[i])\n",
        "                   \n",
        "# Print essential parameters and error estimates to stdout, i.e. screen\n",
        "print ('\\nODR regression results\\n---------------------------------------')\n",
        "print ('slope: ', slope_odr, ' +/- ', err_slope_odr)\n",
        "print ('intercept: ', intercept_odr, ' +/- ',err_intercept_odr)\n",
        "\n",
        "# Calculate the age using the ODR slope\n",
        "age_odr = (np.log(slope_odr +1)/lamda87Rb) /1.E6\n",
        "\n",
        "# Calculate the error on the age from the estimated std_err on the slope\n",
        "relative_err = err_slope_odr/slope_odr\n",
        "age_err_odr = age*relative_err\n",
        "\n",
        "print (f'ODR Age: {age_odr:06.2f} +/- {age_err_odr:3.2f} Ma')\n",
        "\n"
      ],
      "execution_count": 21,
      "outputs": [
        {
          "output_type": "stream",
          "name": "stdout",
          "text": [
            "\n",
            "ODR regression results\n",
            "---------------------------------------\n",
            "slope:  0.0017391378749810806  +/-  1.5501487645923268e-05\n",
            "intercept:  0.7099348963978154  +/-  0.00011176902227321424\n",
            "ODR Age: 122.45 +/- 1.08 Ma\n"
          ]
        }
      ]
    },
    {
      "cell_type": "markdown",
      "metadata": {
        "id": "FpRLKKrQ0CnI"
      },
      "source": [
        "### Let's plot a summmary isochron diagram showing both models, the Ordinary Least Squares (OLS) model and the Orthogonal Direction Regression (ODR) model. In ths plot the error bars (showing the measurement uncertainties on the data) are also plotted. These are so small that the symbol size of most data points obscures these, but there is one data point whic has a large uncertainty on the 87Sr/86Sr value that is clearly visible.\n",
        "\n",
        "### Are the ages estimated using the different approaches different? Think about the estimates AND their estimated errors (these errors are at the 1 sigma level)."
      ]
    },
    {
      "cell_type": "code",
      "metadata": {
        "id": "Jym92lzb0CnI",
        "outputId": "49af9391-ab16-48d4-e2a5-a74580951f45",
        "colab": {
          "base_uri": "https://localhost:8080/",
          "height": 501
        }
      },
      "source": [
        "# Plot the isochron diagram and the fitted line, and print the useful values\n",
        "\n",
        "fig4, ax1 = plt.subplots(figsize=(10,8)) \n",
        "\n",
        "ax1.set_ylabel(\"87Sr/86Sr\", fontsize='x-large')\n",
        "ax1.set_xlabel(\"87Rb/86Sr\", fontsize='x-large')\n",
        "\n",
        "# Place all kwargs for xy data plot style in a dictionary, arguably tidier and easier to read/edit\n",
        "style_data = {'marker':'o','markersize':6, 'markeredgecolor':'k',\\\n",
        "              'elinewidth':1.5,'linewidth':0, 'ecolor':'gray'}\n",
        "ax1.errorbar(x, y, yerr, xerr, **style_data, markerfacecolor='w',label='Sample data')\n",
        "\n",
        "# Plot ODR isochron\n",
        "# Place all kwargs for plot style in a dictionary. tidier and easier to read/edit\n",
        "style_odr={'color':'blue','linewidth':2,'linestyle':'-','label':'ODR isochron'}\n",
        "style_ols={'color':'red','linewidth':2,'linestyle':'-','label':'OLS isochron'}\n",
        "\n",
        "\n",
        "# Plot the fitted isochron lines\n",
        "ax1.plot(x,((x*slope) + intercept), **style_ols) # Plot OLS  fitted line\n",
        "ax1.plot(x,(slope_odr*x+intercept_odr), **style_odr) # Plot ODR  fitted line\n",
        "\n",
        "# Write the stats for the fitted line on the graph\n",
        "ax1.text(5.,1.05,\\\n",
        "f'OLS Age: {age:06.2f} +/- {age_err_ols:3.2f} Ma \\n\\\n",
        "ODR Age: {age_odr:06.2f} +/- {age_err_odr:3.2f} Ma',fontsize='14')\n",
        "\n",
        "ax1.legend(loc='lower right',fontsize='x-large')\n",
        "\n",
        "# Write plot to pdf file. Change file extension to *.png or *.tif as required)\n",
        "#plt.savefig('makgenyene_isochrons.pdf', format='pdf')\n",
        "\n",
        "plt.show()\n"
      ],
      "execution_count": 22,
      "outputs": [
        {
          "output_type": "display_data",
          "data": {
            "image/png": "[encoded data removed]",
            "text/plain": [
              "<Figure size 720x576 with 1 Axes>"
            ]
          },
          "metadata": {
            "needs_background": "light"
          }
        }
      ]
    },
    {
      "cell_type": "code",
      "metadata": {
        "id": "ZFEFrmpQ0CnJ"
      },
      "source": [
        ""
      ],
      "execution_count": 22,
      "outputs": []
    },
    {
      "cell_type": "code",
      "metadata": {
        "id": "QV6iJ67B0CnK"
      },
      "source": [
        ""
      ],
      "execution_count": 22,
      "outputs": []
    }
  ]
}