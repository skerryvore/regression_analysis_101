{
 "cells": [
  {
   "cell_type": "markdown",
   "metadata": {},
   "source": [
    "# Isochron example: the Makgenyene kimberlite, South Africa\n",
    "\n",
    "The code in this notebook demonstrates analysis of Rb-Sr isotopic data and fitting an iscochron to data for mineral separates and whole rock samples from the Makgenyene kimberlite in South Africa (Brown et al. 1989).\n",
    "\n",
    "<i>Brown, R.W., Allsoppl, H.L., Bristow, J.W. and Smith, C.B., 1989. Improved precision of Rb-Sr dating of kimberlitic micas: An assessment of a leaching technique. Chemical Geology: Isotope Geoscience section, 79(2), pp.125-136.<i>\n",
    "https://doi.org/10.1016/0168-9622(89)90015-8\n",
    "    \n",
    "### To run the code, run each code cell sequentially. Select the first cell and press Shift-Enter (Return)"
   ]
  },
  {
   "cell_type": "markdown",
   "metadata": {},
   "source": [
    "### The code in the first few cells just reads the data files, and prints the first few rows of the data tables to the screen."
   ]
  },
  {
   "cell_type": "code",
   "execution_count": 3,
   "metadata": {},
   "outputs": [
    {
     "data": {
      "text/html": [
       "<div>\n",
       "<style scoped>\n",
       "    .dataframe tbody tr th:only-of-type {\n",
       "        vertical-align: middle;\n",
       "    }\n",
       "\n",
       "    .dataframe tbody tr th {\n",
       "        vertical-align: top;\n",
       "    }\n",
       "\n",
       "    .dataframe thead th {\n",
       "        text-align: right;\n",
       "    }\n",
       "</style>\n",
       "<table border=\"1\" class=\"dataframe\">\n",
       "  <thead>\n",
       "    <tr style=\"text-align: right;\">\n",
       "      <th></th>\n",
       "      <th>Sample</th>\n",
       "      <th>Rb [ppm]</th>\n",
       "      <th>Rb_error</th>\n",
       "      <th>Sr [ppm]</th>\n",
       "      <th>Sr_error</th>\n",
       "      <th>87Rb/86Sr</th>\n",
       "      <th>Rb/Sr_error</th>\n",
       "      <th>87Sr/86Sr</th>\n",
       "      <th>2_sigma</th>\n",
       "      <th>1_sigma</th>\n",
       "    </tr>\n",
       "  </thead>\n",
       "  <tbody>\n",
       "    <tr>\n",
       "      <th>0</th>\n",
       "      <td>63-B2</td>\n",
       "      <td>511</td>\n",
       "      <td>4</td>\n",
       "      <td>35.7</td>\n",
       "      <td>0.5</td>\n",
       "      <td>41.80</td>\n",
       "      <td>0.29</td>\n",
       "      <td>0.781250</td>\n",
       "      <td>0.00024</td>\n",
       "      <td>0.000120</td>\n",
       "    </tr>\n",
       "    <tr>\n",
       "      <th>1</th>\n",
       "      <td>63-B3</td>\n",
       "      <td>463</td>\n",
       "      <td>4</td>\n",
       "      <td>29.8</td>\n",
       "      <td>0.4</td>\n",
       "      <td>45.40</td>\n",
       "      <td>0.32</td>\n",
       "      <td>0.787860</td>\n",
       "      <td>0.00060</td>\n",
       "      <td>0.000300</td>\n",
       "    </tr>\n",
       "    <tr>\n",
       "      <th>2</th>\n",
       "      <td>64-B1</td>\n",
       "      <td>485</td>\n",
       "      <td>4</td>\n",
       "      <td>911.0</td>\n",
       "      <td>13.7</td>\n",
       "      <td>1.54</td>\n",
       "      <td>0.01</td>\n",
       "      <td>0.712565</td>\n",
       "      <td>0.00007</td>\n",
       "      <td>0.000035</td>\n",
       "    </tr>\n",
       "    <tr>\n",
       "      <th>3</th>\n",
       "      <td>64-B2</td>\n",
       "      <td>556</td>\n",
       "      <td>4</td>\n",
       "      <td>43.9</td>\n",
       "      <td>0.7</td>\n",
       "      <td>37.00</td>\n",
       "      <td>0.26</td>\n",
       "      <td>0.772660</td>\n",
       "      <td>0.00060</td>\n",
       "      <td>0.000300</td>\n",
       "    </tr>\n",
       "    <tr>\n",
       "      <th>4</th>\n",
       "      <td>64-B3</td>\n",
       "      <td>497</td>\n",
       "      <td>4</td>\n",
       "      <td>15.3</td>\n",
       "      <td>0.2</td>\n",
       "      <td>96.00</td>\n",
       "      <td>0.67</td>\n",
       "      <td>0.897830</td>\n",
       "      <td>0.00084</td>\n",
       "      <td>0.000420</td>\n",
       "    </tr>\n",
       "  </tbody>\n",
       "</table>\n",
       "</div>"
      ],
      "text/plain": [
       "  Sample  Rb [ppm]  Rb_error  Sr [ppm]  Sr_error  87Rb/86Sr  Rb/Sr_error  \\\n",
       "0  63-B2       511         4      35.7       0.5      41.80         0.29   \n",
       "1  63-B3       463         4      29.8       0.4      45.40         0.32   \n",
       "2  64-B1       485         4     911.0      13.7       1.54         0.01   \n",
       "3  64-B2       556         4      43.9       0.7      37.00         0.26   \n",
       "4  64-B3       497         4      15.3       0.2      96.00         0.67   \n",
       "\n",
       "   87Sr/86Sr  2_sigma   1_sigma  \n",
       "0   0.781250  0.00024  0.000120  \n",
       "1   0.787860  0.00060  0.000300  \n",
       "2   0.712565  0.00007  0.000035  \n",
       "3   0.772660  0.00060  0.000300  \n",
       "4   0.897830  0.00084  0.000420  "
      ]
     },
     "execution_count": 3,
     "metadata": {},
     "output_type": "execute_result"
    }
   ],
   "source": [
    "'''\n",
    "-------------------------------------------------------------------------------\n",
    "Notebook example of fitting an isochron to Rb-Sr data, using the dataset from the\n",
    "Makgenyene kimberlite, South Africa.\n",
    "\n",
    "Data are published in;\n",
    "\n",
    "Brown, R.W., Allsoppl, H.L., Bristow, J.W. and Smith, C.B., 1989. Improved precision\n",
    "of Rb-Sr dating of kimberlitic micas: An assessment of a leaching technique.\n",
    "Chemical Geology: Isotope Geoscience section, 79(2), pp.125-136.\n",
    "\n",
    "The isochron is fitted and ages calculated using ordinary least squares (OLS) and\n",
    "orthogonal direction regression (ODR), which takes account of errors in both the\n",
    "x and y values.\n",
    "\n",
    "The data set has been hard-coded here as python dictionaries so that the notebook is\n",
    "selfcontained, i.e. no data file is required. A more elegant way to deal with the data is\n",
    "of course to read the data from an Excel or csv file. Code to do this is included,\n",
    "but commented out below.\n",
    "\n",
    "------------------------------------------------------- Roderick Brown  24/10/2021\n",
    "'''\n",
    "%matplotlib inline\n",
    "\n",
    "import pandas as pd\n",
    "import numpy as np\n",
    "import matplotlib.pyplot as plt\n",
    "\n",
    "\n",
    "# Read csv files via link to github files online (needs internet)\n",
    "phl_df = pd.read_csv('https://raw.githubusercontent.com/skerryvore/regression_analysis_101/master/data/makgenyene_phlogopite.csv')\n",
    "wrk_df = pd.read_csv('https://raw.githubusercontent.com/skerryvore/regression_analysis_101/master/data/makgenyene_wholerock.csv')\n",
    "cbn_df = pd.read_csv('https://raw.githubusercontent.com/skerryvore/regression_analysis_101/master/data/makgenyene_carbonate.csv')\n",
    "      \n",
    "phl_df.head(5)"
   ]
  },
  {
   "cell_type": "code",
   "execution_count": 4,
   "metadata": {},
   "outputs": [
    {
     "data": {
      "text/html": [
       "<div>\n",
       "<style scoped>\n",
       "    .dataframe tbody tr th:only-of-type {\n",
       "        vertical-align: middle;\n",
       "    }\n",
       "\n",
       "    .dataframe tbody tr th {\n",
       "        vertical-align: top;\n",
       "    }\n",
       "\n",
       "    .dataframe thead th {\n",
       "        text-align: right;\n",
       "    }\n",
       "</style>\n",
       "<table border=\"1\" class=\"dataframe\">\n",
       "  <thead>\n",
       "    <tr style=\"text-align: right;\">\n",
       "      <th></th>\n",
       "      <th>Sample</th>\n",
       "      <th>Rb [ppm]</th>\n",
       "      <th>Rb_error</th>\n",
       "      <th>Sr [ppm]</th>\n",
       "      <th>Sr_error</th>\n",
       "      <th>87Rb/86Sr</th>\n",
       "      <th>Rb/Sr_error</th>\n",
       "      <th>87Sr/86Sr</th>\n",
       "      <th>2_sigma</th>\n",
       "      <th>1_sigma</th>\n",
       "    </tr>\n",
       "  </thead>\n",
       "  <tbody>\n",
       "    <tr>\n",
       "      <th>0</th>\n",
       "      <td>WR 64</td>\n",
       "      <td>95.2</td>\n",
       "      <td>1</td>\n",
       "      <td>142</td>\n",
       "      <td>2.1</td>\n",
       "      <td>1.94</td>\n",
       "      <td>0.014</td>\n",
       "      <td>0.71431</td>\n",
       "      <td>0.00014</td>\n",
       "      <td>0.000070</td>\n",
       "    </tr>\n",
       "    <tr>\n",
       "      <th>1</th>\n",
       "      <td>WR 65</td>\n",
       "      <td>169.0</td>\n",
       "      <td>1</td>\n",
       "      <td>892</td>\n",
       "      <td>13.4</td>\n",
       "      <td>0.55</td>\n",
       "      <td>0.004</td>\n",
       "      <td>0.71034</td>\n",
       "      <td>0.00011</td>\n",
       "      <td>0.000055</td>\n",
       "    </tr>\n",
       "  </tbody>\n",
       "</table>\n",
       "</div>"
      ],
      "text/plain": [
       "  Sample  Rb [ppm]  Rb_error  Sr [ppm]  Sr_error  87Rb/86Sr  Rb/Sr_error  \\\n",
       "0  WR 64      95.2         1       142       2.1       1.94        0.014   \n",
       "1  WR 65     169.0         1       892      13.4       0.55        0.004   \n",
       "\n",
       "   87Sr/86Sr  2_sigma   1_sigma  \n",
       "0    0.71431  0.00014  0.000070  \n",
       "1    0.71034  0.00011  0.000055  "
      ]
     },
     "execution_count": 4,
     "metadata": {},
     "output_type": "execute_result"
    }
   ],
   "source": [
    "wrk_df.head(3)\n"
   ]
  },
  {
   "cell_type": "code",
   "execution_count": 5,
   "metadata": {},
   "outputs": [
    {
     "data": {
      "text/html": [
       "<div>\n",
       "<style scoped>\n",
       "    .dataframe tbody tr th:only-of-type {\n",
       "        vertical-align: middle;\n",
       "    }\n",
       "\n",
       "    .dataframe tbody tr th {\n",
       "        vertical-align: top;\n",
       "    }\n",
       "\n",
       "    .dataframe thead th {\n",
       "        text-align: right;\n",
       "    }\n",
       "</style>\n",
       "<table border=\"1\" class=\"dataframe\">\n",
       "  <thead>\n",
       "    <tr style=\"text-align: right;\">\n",
       "      <th></th>\n",
       "      <th>Sample</th>\n",
       "      <th>Rb [ppm]</th>\n",
       "      <th>Rb_error</th>\n",
       "      <th>Sr [ppm]</th>\n",
       "      <th>Sr_error</th>\n",
       "      <th>87Rb/86Sr</th>\n",
       "      <th>Rb/Sr_error</th>\n",
       "      <th>87Sr/86Sr</th>\n",
       "      <th>2_sigma</th>\n",
       "      <th>1_sigma</th>\n",
       "    </tr>\n",
       "  </thead>\n",
       "  <tbody>\n",
       "    <tr>\n",
       "      <th>0</th>\n",
       "      <td>CC 02</td>\n",
       "      <td>0.24</td>\n",
       "      <td>0.002</td>\n",
       "      <td>348.0</td>\n",
       "      <td>5.2</td>\n",
       "      <td>0.002</td>\n",
       "      <td>0.000</td>\n",
       "      <td>0.717130</td>\n",
       "      <td>0.00028</td>\n",
       "      <td>0.000140</td>\n",
       "    </tr>\n",
       "    <tr>\n",
       "      <th>1</th>\n",
       "      <td>DX 01</td>\n",
       "      <td>1.20</td>\n",
       "      <td>0.010</td>\n",
       "      <td>118.0</td>\n",
       "      <td>1.8</td>\n",
       "      <td>0.030</td>\n",
       "      <td>0.000</td>\n",
       "      <td>0.714650</td>\n",
       "      <td>0.00009</td>\n",
       "      <td>0.000045</td>\n",
       "    </tr>\n",
       "    <tr>\n",
       "      <th>2</th>\n",
       "      <td>DX 02</td>\n",
       "      <td>1.31</td>\n",
       "      <td>0.010</td>\n",
       "      <td>16.6</td>\n",
       "      <td>0.2</td>\n",
       "      <td>0.230</td>\n",
       "      <td>0.002</td>\n",
       "      <td>0.714373</td>\n",
       "      <td>0.00024</td>\n",
       "      <td>0.000120</td>\n",
       "    </tr>\n",
       "    <tr>\n",
       "      <th>3</th>\n",
       "      <td>TD 01</td>\n",
       "      <td>1.06</td>\n",
       "      <td>0.008</td>\n",
       "      <td>10.6</td>\n",
       "      <td>0.2</td>\n",
       "      <td>0.290</td>\n",
       "      <td>0.002</td>\n",
       "      <td>0.719440</td>\n",
       "      <td>0.00048</td>\n",
       "      <td>0.000240</td>\n",
       "    </tr>\n",
       "  </tbody>\n",
       "</table>\n",
       "</div>"
      ],
      "text/plain": [
       "  Sample  Rb [ppm]  Rb_error  Sr [ppm]  Sr_error  87Rb/86Sr  Rb/Sr_error  \\\n",
       "0  CC 02      0.24     0.002     348.0       5.2      0.002        0.000   \n",
       "1  DX 01      1.20     0.010     118.0       1.8      0.030        0.000   \n",
       "2  DX 02      1.31     0.010      16.6       0.2      0.230        0.002   \n",
       "3  TD 01      1.06     0.008      10.6       0.2      0.290        0.002   \n",
       "\n",
       "   87Sr/86Sr  2_sigma   1_sigma  \n",
       "0   0.717130  0.00028  0.000140  \n",
       "1   0.714650  0.00009  0.000045  \n",
       "2   0.714373  0.00024  0.000120  \n",
       "3   0.719440  0.00048  0.000240  "
      ]
     },
     "execution_count": 5,
     "metadata": {},
     "output_type": "execute_result"
    }
   ],
   "source": [
    "cbn_df.head(5)"
   ]
  },
  {
   "cell_type": "markdown",
   "metadata": {},
   "source": [
    "### Code in the next cell will plot a graph of 87Sr/86Sr versus 1/Sr concentration as a way of inspecting/evaluating Sr contamination from carbonate. Carbonate typically has very high Sr, because Sr behaves chemically like Ca, and so samples with low background Sr values show the effect of contamination most. In this case the potential carbonate contamonation is from crustal carbonate which has high 87Sr/86Sr of c. 0.71+\n"
   ]
  },
  {
   "cell_type": "code",
   "execution_count": 6,
   "metadata": {},
   "outputs": [
    {
     "data": {
      "image/png": "[encoded data removed]",
      "text/plain": [
       "<Figure size 576x432 with 1 Axes>"
      ]
     },
     "metadata": {
      "needs_background": "light"
     },
     "output_type": "display_data"
    }
   ],
   "source": [
    "\n",
    "# Plot 87Sr/86Sr versus 1/total Sr\n",
    "fig1, ax1 = plt.subplots(figsize=(8,6)) \n",
    "\n",
    "ax1.set_ylabel(\"87Sr/86Sr\",fontsize='x-large')\n",
    "ax1.set_xlabel(\"1/Sr [ppm]\",fontsize='x-large')\n",
    "\n",
    "ax1.scatter(np.array(phl_df['87Sr/86Sr']), 1/np.array(phl_df['Sr [ppm]']), label='phologopites')\n",
    "ax1.scatter(np.array(wrk_df['87Sr/86Sr']), 1/np.array(wrk_df['Sr [ppm]']), label='whole rock')\n",
    "ax1.scatter(np.array(cbn_df['87Sr/86Sr']), 1/np.array(cbn_df['Sr [ppm]']), label='carbonates')\n",
    "\n",
    "ax1.legend(loc='lower right',fontsize='x-large')\n",
    "\n",
    "plt.show(fig1)\n",
    "\n"
   ]
  },
  {
   "cell_type": "markdown",
   "metadata": {},
   "source": [
    "### Plot an isochron diagram for the data, and evaluate whether a straight line fit is likely to produce a sensible age?"
   ]
  },
  {
   "cell_type": "code",
   "execution_count": 7,
   "metadata": {},
   "outputs": [
    {
     "data": {
      "image/png": "[encoded data removed]",
      "text/plain": [
       "<Figure size 576x432 with 1 Axes>"
      ]
     },
     "metadata": {
      "needs_background": "light"
     },
     "output_type": "display_data"
    }
   ],
   "source": [
    "# Plot isochron diagram, 87Sr/86Sr on y-axis versus 87Rb/86Sr on the x-axis\n",
    "\n",
    "fig2, ax1 = plt.subplots(figsize=(8,6)) \n",
    "\n",
    "ax1.set_ylabel(\"87Sr/86Sr\")\n",
    "ax1.set_xlabel(\"87Rb/86Sr\")\n",
    "ax1.scatter(np.array(phl_df['87Rb/86Sr']), np.array(phl_df['87Sr/86Sr']), label='phlogopites')\n",
    "ax1.scatter(np.array(wrk_df['87Rb/86Sr']), np.array(wrk_df['87Sr/86Sr']), label='whole rock')\n",
    "ax1.scatter(np.array(cbn_df['87Rb/86Sr']), np.array(cbn_df['87Sr/86Sr']), label='carbonates')\n",
    "ax1.legend(loc='lower right')\n",
    "\n",
    "plt.show()"
   ]
  },
  {
   "cell_type": "markdown",
   "metadata": {},
   "source": [
    "### To fit a straight line, i.e. an isochron, model to the data plotted above we can use a simple linear regression approach which will estimate the \"best fit\" line and return the slope and intercept values for the fitted line. The code below calls the scipy Ordinary Least Squares routine called <b>stats.linregress</b> and writes some useful values to the screen."
   ]
  },
  {
   "cell_type": "code",
   "execution_count": 11,
   "metadata": {},
   "outputs": [
    {
     "name": "stdout",
     "output_type": "stream",
     "text": [
      "OLS slope: 0.00171679 +/- 0.00001738\n",
      "OLS intercept: 0.711082\n",
      "R^2 value: 0.9981\n",
      "p value: 0.000000\n"
     ]
    }
   ],
   "source": [
    "# Fit isochron using ordinary least squares regression\n",
    "\n",
    "from scipy import stats\n",
    "\n",
    "# Create some 1D arrays called x,y, xerr, and yerr for simplicity\n",
    "x = np.array(phlogopite_data['87Rb/86Sr'])\n",
    "y = np.array(phlogopite_data['87Sr/86Sr'])\n",
    "xerr = np.array(phlogopite_data['Rb/Sr_error'])\n",
    "yerr = np.array(phlogopite_data['1_sigma'])\n",
    "\n",
    "# Call the scipy.stats.linregress routine with x and y arrays (defined above) as arguments\n",
    "slope, intercept, r_value, p_value, std_err = stats.linregress(x,y)\n",
    "\n",
    "# Print some of the returned values of interest\n",
    "print (f'OLS slope: {slope:10.8f} +/- {std_err:10.8f}')\n",
    "print (f'OLS intercept: {intercept:08.6f}')\n",
    "print (f'R^2 value: {r_value**2:06.4f}')\n",
    "print (f'p value: {p_value:08.6f}')\n"
   ]
  },
  {
   "cell_type": "markdown",
   "metadata": {},
   "source": [
    "### We can use the estimated slope value for the line fitted using least squares regression to calculate the age of the kimblerlite. \n",
    "\n",
    "### To calculate the age, $t$ after we determine the slope of the isochron line we can use this equation;\n",
    "\n",
    "\\begin{align}\n",
    " t = \\ln \\left (\\frac{slope+1}{\\lambda}\\right)\n",
    "\\end{align}\n",
    "\n",
    "### where $\\ln$ means the natural logarithm, and $\\lambda$ is the decay constant for $^{87}\\mathrm{Rb}$.\n"
   ]
  },
  {
   "cell_type": "code",
   "execution_count": 12,
   "metadata": {},
   "outputs": [
    {
     "name": "stdout",
     "output_type": "stream",
     "text": [
      "Age: 120.88 +/- 1.22 Ma\n"
     ]
    }
   ],
   "source": [
    "# Calculate the age in My using the slope\n",
    "lamda87Rb = 1.419E-11 # decay constant for 87Rb in 1/yr\n",
    "\n",
    "age = (np.log(slope +1)/lamda87Rb) /1.E6\n",
    "\n",
    "# Calculate the error on the age from the estimated std_err on the slope\n",
    "relative_err = std_err/slope   # calculate the relative error\n",
    "age_err_ols = age*relative_err # calculate the absolute error on the age\n",
    "\n",
    "print (f'Age: {age:06.2f} +/- {age_err_ols:3.2f} Ma')\n"
   ]
  },
  {
   "cell_type": "markdown",
   "metadata": {},
   "source": [
    "### And now let's plot the fitted isochron model line and the data together on an isochron diagram."
   ]
  },
  {
   "cell_type": "code",
   "execution_count": 13,
   "metadata": {},
   "outputs": [
    {
     "data": {
      "image/png": "[encoded data removed]",
      "text/plain": [
       "<Figure size 576x432 with 1 Axes>"
      ]
     },
     "metadata": {
      "needs_background": "light"
     },
     "output_type": "display_data"
    }
   ],
   "source": [
    "# Plot the isochron diagram and the fitted line, and print the useful values\n",
    "\n",
    "fig3, ax1 = plt.subplots(figsize=(8,6)) \n",
    "\n",
    "ax1.set_ylabel(\"87Sr/86Sr\")\n",
    "ax1.set_xlabel(\"87Rb/86Sr\")\n",
    "\n",
    "# Plot the data points\n",
    "ax1.scatter(np.array(phlogopite_data['87Rb/86Sr']), np.array(phlogopite_data['87Sr/86Sr']), label='phlogopites')\n",
    "ax1.scatter(np.array(wholerock_data['87Rb/86Sr']), np.array(wholerock_data['87Sr/86Sr']), label='whole rock')\n",
    "ax1.scatter(np.array(carbonate_data['87Rb/86Sr']), np.array(carbonate_data['87Sr/86Sr']), label='carbonates')\n",
    "ax1.legend(fontsize='x-large',loc='lower right')\n",
    "\n",
    "# Plot the fitted isochron line\n",
    "plt.plot(x,((x*slope) + intercept), 'r-',label='OLS regression line') # Plot the fitted line\n",
    "\n",
    "# Write the stats for the fitted line on the graph\n",
    "plt.text(5.,1.05,\\\n",
    "f'slope: {slope:10.8f} +/- {std_err:10.8f}\\n\\\n",
    "intercept: {intercept:08.6f}\\n \\\n",
    "R value: {r_value**2:8.4f}\\n \\\n",
    "p value: {p_value:04.2f}\\n \\\n",
    "Age: {age:06.2f} +/- {age_err_ols:3.2f} Ma',fontsize='14')\n",
    "\n",
    "# Write plot to pdf file. Change file extension to *.png or *.tif as required)\n",
    "#plt.savefig('makgenyene_isochron.pdf', format='pdf')\n",
    "\n",
    "# Show the plot on screen\n",
    "plt.show()\n"
   ]
  },
  {
   "cell_type": "markdown",
   "metadata": {},
   "source": [
    "### The problem with simple ordinary least squares regression is that it does not account for the measurement uncertainties on the measured data, and the estimated standard errpr on the slope is only based on the variance from a perfect straight line. There are other regression methods we can use that DO take account of the measurement uncertainties on the data, and the fitted line and the estimated uncertainties take account of these explicitly. \n",
    "\n",
    "### The code in the next cell applies Orthogonal Direction Regression (ODR) to fit the isochron and reports the slope, initial ratio and the age all with estimated uncertainties. These model parameters, and their respective uncertainties, are based on the data and the uncertainties on the data."
   ]
  },
  {
   "cell_type": "code",
   "execution_count": 20,
   "metadata": {},
   "outputs": [
    {
     "name": "stdout",
     "output_type": "stream",
     "text": [
      "\n",
      "ODR regression results\n",
      "---------------------------------------\n",
      "slope:  0.0017391378495919816  +/-  1.5501487463143387e-05\n",
      "intercept:  0.7099348965968224  +/-  0.0001117690273736589\n",
      "ODR Age: 122.45 +/- 1.08 Ma\n"
     ]
    }
   ],
   "source": [
    "import scipy.odr.odrpack as odrpack\n",
    "\n",
    "# Scipy's ODR, Orthogonal Distance Regression library (errors on x, y data included)\n",
    "#-----------------------------------------------------------\n",
    "\n",
    "def linear(B,x): # linear model with B[0] as slope and B[1] as intercept\n",
    "    return(B[0]*x + B[1])\n",
    "\n",
    "# Do ODR regression\n",
    "#---------------------------------------------------------------------\n",
    "# Instantiate a model object using the spherical model defined above\n",
    "model = odrpack.Model(linear)\n",
    "\n",
    "# Instantiate a real data object to hold the observed data\n",
    "data = odrpack.RealData(x, y, sx=xerr, sy=yerr)\n",
    "\n",
    "# Pass data object and spherical model object to ODR solver\n",
    "odrsolver = odrpack.ODR(data, model, beta0=[1.,1.])\n",
    "\n",
    "# Run the ODR object and store output in myoutput#\n",
    "myoutput = odrsolver.run()\n",
    "\n",
    "# Print summary of output of ODR to stdout (i.e. screen)\n",
    "#myoutput.pprint()\n",
    "\n",
    "# Extract some useful stats and store them in named variables to use later\n",
    "slope_odr=myoutput.beta[0]\n",
    "err_slope_odr=myoutput.sd_beta[0]\n",
    "intercept_odr=myoutput.beta[1]\n",
    "err_intercept_odr=myoutput.sd_beta[1]\n",
    "\n",
    "# Calculate fitted value of y at each x location, and the residuals\n",
    "# at each location using optimum parameters returned by ODR regression\n",
    "\n",
    "modelY = []\n",
    "residuals = []\n",
    "for i in range (0,len(x)):\n",
    "     modelY.append(intercept_odr + slope_odr*x[i])\n",
    "     residuals.append(modelY[i]-y[i])\n",
    "                   \n",
    "# Print essential parameters and error estimates to stdout, i.e. screen\n",
    "print ('\\nODR regression results\\n---------------------------------------')\n",
    "print ('slope: ', slope_odr, ' +/- ', err_slope_odr)\n",
    "print ('intercept: ', intercept_odr, ' +/- ',err_intercept_odr)\n",
    "\n",
    "# Calculate the age using the ODR slope\n",
    "age_odr = (np.log(slope_odr +1)/lamda87Rb) /1.E6\n",
    "\n",
    "# Calculate the error on the age from the estimated std_err on the slope\n",
    "relative_err = err_slope_odr/slope_odr\n",
    "age_err_odr = age*relative_err\n",
    "\n",
    "print (f'ODR Age: {age_odr:06.2f} +/- {age_err_odr:3.2f} Ma')\n",
    "\n"
   ]
  },
  {
   "cell_type": "markdown",
   "metadata": {},
   "source": [
    "### Let's plot a summmary isochron diagram showing both models, the Ordinary Least Squares (OLS) model and the Orthogonal Direction Regression (ODR) model. In ths plot the error bars (showing the measurement uncertainties on the data) are also plotted. These are so small that the symbol size of most data points obscures these, but there is one data point whic has a large uncertainty on the 87Sr/86Sr value that is clearly visible.\n",
    "\n",
    "### Are the ages estimated using the different approaches different? Think about the estimates AND their estimated errors (these errors are at the 1 sigma level)."
   ]
  },
  {
   "cell_type": "code",
   "execution_count": 22,
   "metadata": {},
   "outputs": [
    {
     "data": {
      "image/png": "[encoded data removed]",
      "text/plain": [
       "<Figure size 576x432 with 1 Axes>"
      ]
     },
     "metadata": {
      "needs_background": "light"
     },
     "output_type": "display_data"
    }
   ],
   "source": [
    "# Plot the isochron diagram and the fitted line, and print the useful values\n",
    "\n",
    "fig4, ax1 = plt.subplots(figsize=(8,6)) \n",
    "\n",
    "ax1.set_ylabel(\"87Sr/86Sr\")\n",
    "ax1.set_xlabel(\"87Rb/86Sr\")\n",
    "\n",
    "# Place all kwargs for xy data plot style in a dictionary, arguably tidier and easier to read/edit\n",
    "style_data = {'marker':'o','markersize':6, 'markeredgecolor':'k',\\\n",
    "              'elinewidth':1.5,'linewidth':0, 'ecolor':'gray'}\n",
    "ax1.errorbar(x, y, yerr, xerr, **style_data, markerfacecolor='w',label='Sample data')\n",
    "\n",
    "# Plot ODR isochron\n",
    "# Place all kwargs for plot style in a dictionary. tidier and easier to read/edit\n",
    "style_odr={'color':'blue','linewidth':2,'linestyle':'-','label':'ODR isochron'}\n",
    "style_ols={'color':'red','linewidth':2,'linestyle':'-','label':'OLS isochron'}\n",
    "\n",
    "\n",
    "# Plot the fitted isochron lines\n",
    "ax1.plot(x,((x*slope) + intercept), **style_ols) # Plot OLS  fitted line\n",
    "ax1.plot(x,(slope_odr*x+intercept_odr), **style_odr) # Plot ODR  fitted line\n",
    "\n",
    "# Write the stats for the fitted line on the graph\n",
    "ax1.text(5.,1.05,\\\n",
    "f'OLS Age: {age:06.2f} +/- {age_err_ols:3.2f} Ma \\n\\\n",
    "ODR Age: {age_odr:06.2f} +/- {age_err_odr:3.2f} Ma',fontsize='14')\n",
    "\n",
    "ax1.legend(loc='lower right',fontsize='x-large')\n",
    "\n",
    "# Write plot to pdf file. Change file extension to *.png or *.tif as required)\n",
    "#plt.savefig('makgenyene_isochrons.pdf', format='pdf')\n",
    "\n",
    "plt.show()\n"
   ]
  },
  {
   "cell_type": "code",
   "execution_count": null,
   "metadata": {},
   "outputs": [],
   "source": []
  },
  {
   "cell_type": "code",
   "execution_count": null,
   "metadata": {},
   "outputs": [],
   "source": []
  }
 ],
 "metadata": {
  "kernelspec": {
   "display_name": "Python 3",
   "language": "python",
   "name": "python3"
  },
  "language_info": {
   "codemirror_mode": {
    "name": "ipython",
    "version": 3
   },
   "file_extension": ".py",
   "mimetype": "text/x-python",
   "name": "python",
   "nbconvert_exporter": "python",
   "pygments_lexer": "ipython3",
   "version": "3.8.3"
  }
 },
 "nbformat": 4,
 "nbformat_minor": 4
}
