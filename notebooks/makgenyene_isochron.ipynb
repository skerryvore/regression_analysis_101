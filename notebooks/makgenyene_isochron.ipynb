{
  "nbformat": 4,
  "nbformat_minor": 0,
  "metadata": {
    "kernelspec": {
      "display_name": "Python 3",
      "language": "python",
      "name": "python3"
    },
    "language_info": {
      "codemirror_mode": {
        "name": "ipython",
        "version": 3
      },
      "file_extension": ".py",
      "mimetype": "text/x-python",
      "name": "python",
      "nbconvert_exporter": "python",
      "pygments_lexer": "ipython3",
      "version": "3.8.3"
    },
    "colab": {
      "name": "Copy of Copy of makgenyene_isochron.ipynb",
      "provenance": [],
      "collapsed_sections": [],
      "include_colab_link": true
    }
  },
  "cells": [
    {
      "cell_type": "markdown",
      "metadata": {
        "id": "view-in-github",
        "colab_type": "text"
      },
      "source": [
        "<a href=\"https://colab.research.google.com/github/skerryvore/regression_analysis_101/blob/master/notebooks/makgenyene_isochron.ipynb\" target=\"_parent\"><img src=\"https://colab.research.google.com/assets/colab-badge.svg\" alt=\"Open In Colab\"/></a>"
      ]
    },
    {
      "cell_type": "markdown",
      "metadata": {
        "id": "NI6UjXAw0Cmq"
      },
      "source": [
        "# Isochron example: the Makgenyene kimberlite, South Africa\n",
        "\n",
        "The code in this notebook demonstrates analysis of Rb-Sr isotopic data and fitting an iscochron to data for mineral separates and whole rock samples from the Makgenyene kimberlite in South Africa (Brown et al. 1989, https://doi.org/10.1016/0168-9622(89)90015-8).\n",
        "\n",
        "![image](https://docs.google.com/uc?export=download&id=1XTF-YMinKDeOrfBdSm4QCauKhGpLy0Hd)\n",
        "\n",
        "[//]: # \"<i>Brown, R.W., Allsoppl, H.L., Bristow, J.W. and Smith, C.B., 1989. Improved precision of Rb-Sr dating of kimberlitic micas: An assessment of a leaching technique. Chemical Geology: Isotope Geoscience section, 79(2), pp.125-136.<i>\"\n",
        "\n",
        "\n",
        "### To run the code, run each code cell sequentially. Select the first cell (clickin the cell) and press <b>Shift-Enter</b> (Return), or if you are running the notebook on <b>Google Colab</b>, you can also just click the wee run button (black circle with a small white arrow icon, top left of cell)."
      ]
    },
    {
      "cell_type": "markdown",
      "metadata": {
        "id": "gYXw9CjF0Cmz"
      },
      "source": [
        "### The code in the first few cells just reads the data files, and prints the first few rows of the data tables to the screen."
      ]
    },
    {
      "cell_type": "code",
      "metadata": {
        "id": "h-jILIaO0Cm0"
      },
      "source": [
        "'''\n",
        "-------------------------------------------------------------------------------\n",
        "Notebook example of fitting an isochron to Rb-Sr data, using the dataset from the\n",
        "Makgenyene kimberlite, South Africa.\n",
        "\n",
        "Data are published in;\n",
        "\n",
        "Brown, R.W., Allsoppl, H.L., Bristow, J.W. and Smith, C.B., 1989. Improved precision\n",
        "of Rb-Sr dating of kimberlitic micas: An assessment of a leaching technique.\n",
        "Chemical Geology: Isotope Geoscience section, 79(2), pp.125-136.\n",
        "\n",
        "The isochron is fitted and ages calculated using ordinary least squares (OLS) and\n",
        "orthogonal direction regression (ODR), which takes account of errors in both the\n",
        "x and y values.\n",
        "\n",
        "The data set has been hard-coded here as python dictionaries so that the notebook is\n",
        "selfcontained, i.e. no data file is required. A more elegant way to deal with the data is\n",
        "of course to read the data from an Excel or csv file. Code to do this is included,\n",
        "but commented out below.\n",
        "\n",
        "------------------------------------------------------- Roderick Brown  24/10/2021\n",
        "'''\n",
        "%matplotlib inline\n",
        "\n",
        "import pandas as pd\n",
        "import numpy as np\n",
        "import matplotlib.pyplot as plt\n",
        "\n",
        "# setup default font sizes for plot elements\n",
        "TINY_SIZE = 12\n",
        "SMALL_SIZE = 14\n",
        "MEDIUM_SIZE = 20\n",
        "BIGGER_SIZE = 24\n",
        "\n",
        "plt.rc('font', size=SMALL_SIZE)          # controls default text sizes\n",
        "plt.rc('axes', titlesize=BIGGER_SIZE)    # fontsize of the axes title\n",
        "plt.rc('axes', labelsize=BIGGER_SIZE)    # fontsize of the x and y labels\n",
        "plt.rc('xtick', labelsize=MEDIUM_SIZE)   # fontsize of the tick labels\n",
        "plt.rc('ytick', labelsize=MEDIUM_SIZE)   # fontsize of the tick labels\n",
        "plt.rc('legend', fontsize=MEDIUM_SIZE)     # legend fontsize\n",
        "plt.rc('figure', titlesize=MEDIUM_SIZE)  # fontsize of the figure title\n",
        "plt.rc('figure', figsize=(10, 8))\n",
        "\n",
        "#plt.rcParams['figure.figsize'] = (10, 8)\n",
        "\n",
        "# Read csv files via link to github files online (needs internet)\n",
        "phl_df = pd.read_csv('https://raw.githubusercontent.com/skerryvore/regression_analysis_101/master/data/makgenyene_phlogopite.csv')\n",
        "wrk_df = pd.read_csv('https://raw.githubusercontent.com/skerryvore/regression_analysis_101/master/data/makgenyene_wholerock.csv')\n",
        "cbn_df = pd.read_csv('https://raw.githubusercontent.com/skerryvore/regression_analysis_101/master/data/makgenyene_carbonate.csv')\n",
        "\n",
        "# Print top 20 rows of phlogopite data table    \n",
        "phl_df.head(20)"
      ],
      "execution_count": null,
      "outputs": []
    },
    {
      "cell_type": "code",
      "metadata": {
        "id": "-yehWvfg0Cm5"
      },
      "source": [
        "# Print top 2 rows of wholerock data table \n",
        "wrk_df.head(2)\n"
      ],
      "execution_count": null,
      "outputs": []
    },
    {
      "cell_type": "code",
      "metadata": {
        "id": "AyGWoXBo0Cm8"
      },
      "source": [
        "# Print top 4 rows of carbonate sample data table \n",
        "cbn_df.head(5)"
      ],
      "execution_count": null,
      "outputs": []
    },
    {
      "cell_type": "markdown",
      "metadata": {
        "id": "nFJBCKDg0Cm9"
      },
      "source": [
        "### Code in the next cell will plot a graph of 87Sr/86Sr versus 1/Sr concentration as a way of inspecting/evaluating Sr contamination from carbonate. Carbonate typically has very high Sr, because Sr behaves chemically like Ca, and so samples with low background Sr values show the effect of contamination most. In this case the potential carbonate contamonation is from crustal carbonate which has high 87Sr/86Sr of c. 0.71+\n"
      ]
    },
    {
      "cell_type": "code",
      "metadata": {
        "id": "_-3ymKXj0Cm9"
      },
      "source": [
        "# Setup dictionaries of values for default plotting styles\n",
        "phlog_style = {'marker':'o','s':50,'color':'k','label':'phlogopites'}\n",
        "whrk_style  = {'marker':'s','s':50,'color':'r','label':'whole rock'}\n",
        "carbn_style = {'marker':'d','s':50,'color':'g','label':'carbonates'}\n",
        "\n",
        "# Plot 87Sr/86Sr versus 1/total Sr\n",
        "fig1, ax1 = plt.subplots() \n",
        "\n",
        "ax1.set_title(\"$^{87}Sr\\,/\\,^{86}Sr$ versus $1/Sr\\;[ppm]$\\n\")\n",
        "ax1.set_ylabel(\"$^{87}Sr\\,/\\,^{86}Sr$\")\n",
        "ax1.set_xlabel(\"$1/Sr\\;[ppm]$\")\n",
        "\n",
        "ax1.scatter(1/np.array(phl_df['Sr [ppm]']), np.array(phl_df['87Sr/86Sr']), **phlog_style)\n",
        "ax1.scatter(1/np.array(wrk_df['Sr [ppm]']), np.array(wrk_df['87Sr/86Sr']), **whrk_style)\n",
        "ax1.scatter(1/np.array(cbn_df['Sr [ppm]']), np.array(cbn_df['87Sr/86Sr']), **carbn_style)\n",
        "\n",
        "ax1.legend(loc='upper left')\n",
        "\n",
        "plt.show(fig1)\n",
        "\n"
      ],
      "execution_count": null,
      "outputs": []
    },
    {
      "cell_type": "markdown",
      "metadata": {
        "id": "XSLe6_sR0Cm_"
      },
      "source": [
        "### Plot an isochron diagram for the data, and evaluate whether a straight line fit is likely to produce a sensible age?"
      ]
    },
    {
      "cell_type": "code",
      "metadata": {
        "id": "M7pvuFOS0CnA",
        "colab": {
          "base_uri": "https://localhost:8080/",
          "height": 578
        },
        "outputId": "849db2e7-cb2b-4b22-e119-614bce111f24"
      },
      "source": [
        "# Plot isochron diagram, 87Sr/86Sr on y-axis versus 87Rb/86Sr on the x-axis\n",
        "\n",
        "fig2, ax1 = plt.subplots() \n",
        "\n",
        "ax1.set_title(\"Isochron diagram\\n\")\n",
        "ax1.set_ylabel(\"$^{87}Sr\\,/\\,^{86}Sr$\")\n",
        "ax1.set_xlabel(\"$^{87}Rb\\,/\\,^{86}Sr$\")\n",
        "        \n",
        "# Plot each data set\n",
        "ax1.scatter(np.array(phl_df['87Rb/86Sr']), np.array(phl_df['87Sr/86Sr']), **phlog_style)\n",
        "ax1.scatter(np.array(wrk_df['87Rb/86Sr']), np.array(wrk_df['87Sr/86Sr']), **whrk_style)\n",
        "ax1.scatter(np.array(cbn_df['87Rb/86Sr']), np.array(cbn_df['87Sr/86Sr']), **carbn_style)\n",
        "\n",
        "# Draw the legend for the plot\n",
        "ax1.legend(loc='lower right')\n",
        "\n",
        "plt.show()"
      ],
      "execution_count": 14,
      "outputs": [
        {
          "output_type": "display_data",
          "data": {
            "image/png": "[encoded data removed]",
            "text/plain": [
              "<Figure size 720x576 with 1 Axes>"
            ]
          },
          "metadata": {
            "needs_background": "light"
          }
        }
      ]
    },
    {
      "cell_type": "markdown",
      "metadata": {
        "id": "Yl53Q3-r0CnB"
      },
      "source": [
        "### To fit a straight line, i.e. an isochron, model to the data plotted above we can use a simple linear regression approach which will estimate the \"best fit\" line and return the slope and intercept values for the fitted line. The code below calls the scipy Ordinary Least Squares routine called <b>stats.linregress</b> and writes some useful values to the screen."
      ]
    },
    {
      "cell_type": "code",
      "metadata": {
        "id": "flYCJMcn0CnB"
      },
      "source": [
        "# Fit isochron using ordinary least squares regression\n",
        "\n",
        "from scipy import stats\n",
        "\n",
        "# Create some 1D arrays called x,y, xerr, and yerr for simplicity\n",
        "x = np.array(phl_df['87Rb/86Sr'])\n",
        "y = np.array(phl_df['87Sr/86Sr'])\n",
        "xerr = np.array(phl_df['Rb/Sr_error'])\n",
        "yerr = np.array(phl_df['1_sigma'])\n",
        "\n",
        "# Call the scipy.stats.linregress routine with x and y arrays (defined above) as arguments\n",
        "slope, intercept, r_value, p_value, std_err = stats.linregress(x,y)\n",
        "\n",
        "# Print some of the returned values of interest\n",
        "print (f'OLS slope: {slope:10.8f} +/- {std_err:10.8f}')\n",
        "print (f'OLS intercept: {intercept:08.6f}')\n",
        "print (f'R^2 value: {r_value**2:06.4f}')\n",
        "print (f'p value: {p_value:08.6f}')\n"
      ],
      "execution_count": null,
      "outputs": []
    },
    {
      "cell_type": "markdown",
      "metadata": {
        "id": "GsMguDAs0CnD"
      },
      "source": [
        "### We can use the estimated slope value for the line fitted using least squares regression to calculate the age of the kimblerlite. \n",
        "\n",
        "### To calculate the age, $t$ after we determine the slope of the isochron line we can use this equation;\n",
        "\n",
        "\\begin{align}\n",
        " t = \\ln \\left (\\frac{slope+1}{\\lambda}\\right)\n",
        "\\end{align}\n",
        "\n",
        "### where $\\ln$ means the natural logarithm, and $\\lambda$ is the decay constant for $^{87}\\mathrm{Rb}$.\n"
      ]
    },
    {
      "cell_type": "code",
      "metadata": {
        "id": "gNHT5fSH0CnE"
      },
      "source": [
        "# Calculate the age in My using the slope\n",
        "lamda87Rb = 1.419E-11 # decay constant for 87Rb in 1/yr\n",
        "\n",
        "age = (np.log(slope +1)/lamda87Rb)/1.E6 # Divide by 1.E6 to convert to Ma\n",
        "\n",
        "# Calculate the error on the age from the estimated std_err on the slope\n",
        "relative_err = std_err/slope   # calculate the relative error\n",
        "age_err_ols = age*relative_err # calculate the absolute error on the age\n",
        "\n",
        "print (f'Age: {age:06.2f} +/- {age_err_ols:3.2f} Ma')\n"
      ],
      "execution_count": null,
      "outputs": []
    },
    {
      "cell_type": "markdown",
      "metadata": {
        "id": "V5HdFuu90CnF"
      },
      "source": [
        "### And now let's plot the fitted isochron model line and the data together on an isochron diagram."
      ]
    },
    {
      "cell_type": "code",
      "metadata": {
        "id": "HdbfRjAv0CnF"
      },
      "source": [
        "# Plot the isochron diagram and the fitted line, and print the useful values\n",
        "\n",
        "fig3, ax1 = plt.subplots() \n",
        "\n",
        "ax1.set_title(\"Isochron fitted using Ordinary Least Squares\\n\")\n",
        "ax1.set_ylabel(\"$^{87}Sr\\,/\\,^{86}Sr$\")\n",
        "ax1.set_xlabel(\"$^{87}Rb\\,/\\,^{86}Sr$\")\n",
        "\n",
        "# Plot the data points\n",
        "ax1.scatter(np.array(phl_df['87Rb/86Sr']), np.array(phl_df['87Sr/86Sr']), **phlog_style)\n",
        "ax1.scatter(np.array(wrk_df['87Rb/86Sr']), np.array(wrk_df['87Sr/86Sr']), **whrk_style)\n",
        "ax1.scatter(np.array(cbn_df['87Rb/86Sr']), np.array(cbn_df['87Sr/86Sr']), **carbn_style)\n",
        "\n",
        "# Plot the fitted isochron line\n",
        "ax1.plot(x,((x*slope) + intercept), 'r-',label='OLS regression line') # Plot the fitted line\n",
        "\n",
        "ax1.legend(loc='lower right')\n",
        "\n",
        "# Write the stats for the fitted line on the graph\n",
        "ax1.text(5.,1.05,\\\n",
        "f'slope: {slope:10.8f} +/- {std_err:10.8f}\\n\\\n",
        "intercept: {intercept:08.6f}\\n \\\n",
        "R^2 value: {r_value**2:8.4f}\\n \\\n",
        "p value: {p_value:04.2f}\\n \\\n",
        "Age: {age:06.2f} +/- {age_err_ols:3.2f} Ma',fontsize='14')\n",
        "\n",
        "# Write plot to pdf file. Change file extension to *.png or *.tif as required)\n",
        "#plt.savefig('makgenyene_isochron.pdf', format='pdf')\n",
        "\n",
        "# Show the plot on screen\n",
        "plt.show()\n"
      ],
      "execution_count": null,
      "outputs": []
    },
    {
      "cell_type": "markdown",
      "metadata": {
        "id": "T_-00tP7_uVq"
      },
      "source": [
        "### Note that there is one sample point that lies significantly above the isochron line, it is sample 64-B3 (with a 87Rb/86Sr value of c. 100 and an 87Sr/86Sr value of c. 0.9). This is one of the samples that was etched severley and may be indicating it has lost Rb? Let's rerun the analysis excluding this sample, and see if it makes a difference. The code in the next cell will make a copy of the phlogopite data, but will exclude sample 64-B3. "
      ]
    },
    {
      "cell_type": "code",
      "metadata": {
        "id": "ZPxXaF7Q9J46"
      },
      "source": [
        "# Copy the phlogopite dataframe, but exclude the row for sample 64-B3\n",
        "phl_df_new = phl_df[(phl_df.Sample != '64-B3')]\n",
        "\n",
        "excluded_df = phl_df[(phl_df.Sample == '64-B3')] # Save a copy of 64-B3 to plot separately\n",
        "\n",
        "phl_df_new.head(6)\n",
        "                     "
      ],
      "execution_count": null,
      "outputs": []
    },
    {
      "cell_type": "markdown",
      "metadata": {
        "id": "4ECLs6LwAhl6"
      },
      "source": [
        "### Now let's rerun the analysis, and plot the new isochron diagram and look at the estimated age and associated errors. Is this new age estimate different?"
      ]
    },
    {
      "cell_type": "code",
      "metadata": {
        "id": "cwTUD411-OyS"
      },
      "source": [
        "# Create new 1D arrays called x,y, xerr, and yerr for simplicity\n",
        "x = np.array(phl_df_new['87Rb/86Sr'])\n",
        "y = np.array(phl_df_new['87Sr/86Sr'])\n",
        "xerr = np.array(phl_df_new['Rb/Sr_error'])\n",
        "yerr = np.array(phl_df_new['1_sigma'])\n",
        "\n",
        "# Call the scipy.stats.linregress routine with x and y arrays (defined above) as arguments\n",
        "slope, intercept, r_value, p_value, std_err = stats.linregress(x,y)\n",
        "\n",
        "# Print some of the returned values of interest\n",
        "print ('New values excluding sample 64-B3\\n--------------------------------')\n",
        "print (f'OLS slope: {slope:10.8f} +/- {std_err:10.8f}')\n",
        "print (f'OLS intercept: {intercept:08.6f}')\n",
        "print (f'R^2 value: {r_value**2:06.4f}')\n",
        "print (f'p value: {p_value:08.6f}')\n",
        "\n",
        "age = (np.log(slope +1)/lamda87Rb) /1.E6\n",
        "\n",
        "# Calculate the error on the age from the estimated std_err on the slope\n",
        "relative_err = std_err/slope   # calculate the relative error\n",
        "age_err_ols = age*relative_err # calculate the absolute error on the age\n",
        "\n",
        "print (f'Age: {age:06.2f} +/- {age_err_ols:3.2f} Ma')\n",
        "\n",
        "# Plot the isochron diagram and the fitted line, and print the useful values\n",
        "\n",
        "fig31, ax1 = plt.subplots() \n",
        "\n",
        "ax1.set_ylabel(\"$^{87}Sr\\,/\\,^{86}Sr$\")\n",
        "ax1.set_xlabel(\"$^{87}Rb\\,/\\,^{86}Sr$\")\n",
        "\n",
        "# Plot the data points\n",
        "ax1.scatter(np.array(phl_df_new['87Rb/86Sr']), np.array(phl_df_new['87Sr/86Sr']), **phlog_style)\n",
        "ax1.scatter(np.array(excluded_df['87Rb/86Sr']), np.array(excluded_df['87Sr/86Sr']), color='red', s=60, label='excluded samples')\n",
        "\n",
        "ax1.legend(fontsize='x-large',loc='lower right')\n",
        "\n",
        "# Plot the fitted isochron line\n",
        "plt.plot(x,((x*slope) + intercept), 'r-',label='OLS regression line') # Plot the fitted line\n",
        "\n",
        "# Write the stats for the fitted line on the graph\n",
        "plt.text(5.,1.05,\\\n",
        "f'slope: {slope:10.8f} +/- {std_err:10.8f}\\n\\\n",
        "intercept: {intercept:08.6f}\\n \\\n",
        "R value: {r_value**2:8.4f}\\n \\\n",
        "p value: {p_value:04.2f}\\n \\\n",
        "Age: {age:06.2f} +/- {age_err_ols:3.2f} Ma\\n\\n',fontsize='14')\n",
        "\n",
        "# Write plot to pdf file. Change file extension to *.png or *.tif as required)\n",
        "#plt.savefig('makgenyene_isochron.pdf', format='pdf')\n",
        "\n",
        "# Show the plot on screen\n",
        "plt.show()\n"
      ],
      "execution_count": null,
      "outputs": []
    },
    {
      "cell_type": "markdown",
      "metadata": {
        "id": "o3T3pA2T0CnG"
      },
      "source": [
        "### The problem with simple ordinary least squares regression is that it does not account for the measurement uncertainties on the measured data, and the estimated standard errpr on the slope is only based on the variance from a perfect straight line. There are other regression methods we can use that DO take account of the measurement uncertainties on the data, and the fitted line and the estimated uncertainties take account of these explicitly. \n",
        "\n",
        "### The code in the next cell applies Orthogonal Direction Regression (ODR) to fit the isochron and reports the slope, initial ratio and the age all with estimated uncertainties. These model parameters, and their respective uncertainties, are based on the data and the uncertainties on the data."
      ]
    },
    {
      "cell_type": "code",
      "metadata": {
        "id": "D1TA-_PG0CnG"
      },
      "source": [
        "import scipy.odr.odrpack as odrpack\n",
        "\n",
        "# Scipy's ODR, Orthogonal Distance Regression library (errors on x, y data included)\n",
        "#-----------------------------------------------------------\n",
        "\n",
        "def linear(B,x): # linear model with array values B[0] as slope and B[1] as intercept\n",
        "    return(B[0]*x + B[1])\n",
        "\n",
        "# Do ODR regression\n",
        "#---------------------------------------------------------------------\n",
        "# Instantiate a model object using the linear model defined above\n",
        "model = odrpack.Model(linear)\n",
        "\n",
        "# Instantiate a real data object to hold the observed data\n",
        "data = odrpack.RealData(x, y, sx=xerr, sy=yerr)\n",
        "\n",
        "# Pass data object and spherical model object to ODR solver\n",
        "odrsolver = odrpack.ODR(data, model, beta0=[1.,1.])\n",
        "\n",
        "# Run the ODR object and store output in myoutput#\n",
        "myoutput = odrsolver.run()\n",
        "\n",
        "# Print summary of output of ODR to stdout (i.e. screen)\n",
        "#myoutput.pprint()\n",
        "\n",
        "# Extract some useful stats and store them in named variables to use later\n",
        "slope_odr=myoutput.beta[0]\n",
        "err_slope_odr=myoutput.sd_beta[0]\n",
        "intercept_odr=myoutput.beta[1]\n",
        "err_intercept_odr=myoutput.sd_beta[1]\n",
        "                   \n",
        "# Print essential parameters and error estimates to stdout, i.e. screen\n",
        "print ('\\nODR regression results\\n---------------------------------------')\n",
        "print (f'slope: {slope_odr:08.6f}  +/-  {err_slope_odr:10.6f}')\n",
        "print (f'intercept: {intercept_odr:08.6f}  +/- {err_intercept_odr:10.6f}\\n')\n",
        "\n",
        "# Calculate the age using the ODR slope\n",
        "age_odr = (np.log(slope_odr +1)/lamda87Rb) /1.E6\n",
        "\n",
        "# Calculate the error on the age from the estimated std_err on the slope\n",
        "relative_err = err_slope_odr/slope_odr\n",
        "age_err_odr = age*relative_err\n",
        "\n",
        "print (f'ODR Age: {age_odr:06.2f} +/- {age_err_odr:3.2f} Ma')\n",
        "\n"
      ],
      "execution_count": null,
      "outputs": []
    },
    {
      "cell_type": "markdown",
      "metadata": {
        "id": "FpRLKKrQ0CnI"
      },
      "source": [
        "### Let's plot a summmary isochron diagram showing both models, the Ordinary Least Squares (OLS) model and the Orthogonal Direction Regression (ODR) model. In ths plot the error bars (showing the measurement uncertainties on the data) are also plotted. These are so small that the symbol size of most data points obscures these, but there is one data point whic has a large uncertainty on the 87Sr/86Sr value that is clearly visible.\n",
        "\n",
        "### Are the ages estimated using the different approaches different? Think about the estimates AND their estimated errors (these errors are at the 1 sigma level)."
      ]
    },
    {
      "cell_type": "code",
      "metadata": {
        "id": "Jym92lzb0CnI"
      },
      "source": [
        "# Plot the isochron diagram and the fitted line, and print the useful values\n",
        "\n",
        "fig4, ax1 = plt.subplots() \n",
        "\n",
        "ax1.set_ylabel(\"$^{87}Sr\\,/\\,^{86}Sr$\")\n",
        "ax1.set_xlabel(\"$^{87}Rb\\,/\\,^{86}Sr$\")\n",
        "\n",
        "# Place all kwargs for xy data plot style in a dictionary, arguably tidier and easier to read/edit\n",
        "style_data = {'marker':'o','markersize':6, 'markeredgecolor':'k',\\\n",
        "              'elinewidth':1.5,'linewidth':0, 'ecolor':'gray'}\n",
        "ax1.errorbar(x, y, yerr, xerr, **style_data, markerfacecolor='w',label='Sample data')\n",
        "\n",
        "# Plot ODR isochron\n",
        "# Place all kwargs for plot style in a dictionary. tidier and easier to read/edit\n",
        "style_odr={'color':'blue','linewidth':2,'linestyle':'-','label':'ODR isochron'}\n",
        "style_ols={'color':'red','linewidth':2,'linestyle':'-','label':'OLS isochron'}\n",
        "\n",
        "\n",
        "# Plot the fitted isochron lines\n",
        "ax1.plot(x,((x*slope) + intercept), **style_ols) # Plot OLS  fitted line\n",
        "ax1.plot(x,(slope_odr*x+intercept_odr), **style_odr) # Plot ODR  fitted line\n",
        "\n",
        "# Write the stats for the fitted line on the graph\n",
        "ax1.text(5.,1.08,\\\n",
        "f'OLS Age: {age:06.2f} +/- {age_err_ols:3.2f} Ma \\n\\n\\\n",
        "ODR Age: {age_odr:06.2f} +/- {age_err_odr:3.2f} Ma',fontsize='20')\n",
        "\n",
        "ax1.legend(loc='lower right',fontsize='x-large')\n",
        "\n",
        "# Write plot to pdf file. Change file extension to *.png or *.tif as required)\n",
        "plt.savefig('makgenyene_isochrons.pdf', format='pdf')\n",
        "\n",
        "plt.show()\n"
      ],
      "execution_count": null,
      "outputs": []
    },
    {
      "cell_type": "code",
      "metadata": {
        "id": "ZFEFrmpQ0CnJ"
      },
      "source": [
        ""
      ],
      "execution_count": null,
      "outputs": []
    },
    {
      "cell_type": "code",
      "metadata": {
        "id": "QV6iJ67B0CnK"
      },
      "source": [
        ""
      ],
      "execution_count": null,
      "outputs": []
    }
  ]
}