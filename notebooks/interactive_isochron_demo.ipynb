{
  "nbformat": 4,
  "nbformat_minor": 0,
  "metadata": {
    "kernelspec": {
      "display_name": "Python 3",
      "language": "python",
      "name": "python3"
    },
    "language_info": {
      "codemirror_mode": {
        "name": "ipython",
        "version": 3
      },
      "file_extension": ".py",
      "mimetype": "text/x-python",
      "name": "python",
      "nbconvert_exporter": "python",
      "pygments_lexer": "ipython3",
      "version": "3.7.4"
    },
    "colab": {
      "name": "interactive_isochron.ipynb",
      "provenance": [],
      "toc_visible": true,
      "include_colab_link": true
    },
    "widgets": {
      "application/vnd.jupyter.widget-state+json": {
        "c62a9910eca44daeb8fc6594c894f640": {
          "model_module": "@jupyter-widgets/controls",
          "model_name": "VBoxModel",
          "model_module_version": "1.5.0",
          "state": {
            "_view_name": "VBoxView",
            "_dom_classes": [
              "widget-interact"
            ],
            "_model_name": "VBoxModel",
            "_view_module": "@jupyter-widgets/controls",
            "_model_module_version": "1.5.0",
            "_view_count": null,
            "_view_module_version": "1.5.0",
            "box_style": "",
            "layout": "IPY_MODEL_57a14ab356be468a80ce150d36304962",
            "_model_module": "@jupyter-widgets/controls",
            "children": [
              "IPY_MODEL_9b200fa21ea644cf890525346f6abc62",
              "IPY_MODEL_0a688b12202d4f188c98f510f7889126",
              "IPY_MODEL_aa9ab84ce66b444484a8a44fd7c2d1a2"
            ]
          }
        },
        "57a14ab356be468a80ce150d36304962": {
          "model_module": "@jupyter-widgets/base",
          "model_name": "LayoutModel",
          "model_module_version": "1.2.0",
          "state": {
            "_view_name": "LayoutView",
            "grid_template_rows": null,
            "right": null,
            "justify_content": null,
            "_view_module": "@jupyter-widgets/base",
            "overflow": null,
            "_model_module_version": "1.2.0",
            "_view_count": null,
            "flex_flow": null,
            "width": null,
            "min_width": null,
            "border": null,
            "align_items": null,
            "bottom": null,
            "_model_module": "@jupyter-widgets/base",
            "top": null,
            "grid_column": null,
            "overflow_y": null,
            "overflow_x": null,
            "grid_auto_flow": null,
            "grid_area": null,
            "grid_template_columns": null,
            "flex": null,
            "_model_name": "LayoutModel",
            "justify_items": null,
            "grid_row": null,
            "max_height": null,
            "align_content": null,
            "visibility": null,
            "align_self": null,
            "height": null,
            "min_height": null,
            "padding": null,
            "grid_auto_rows": null,
            "grid_gap": null,
            "max_width": null,
            "order": null,
            "_view_module_version": "1.2.0",
            "grid_template_areas": null,
            "object_position": null,
            "object_fit": null,
            "grid_auto_columns": null,
            "margin": null,
            "display": null,
            "left": null
          }
        },
        "9b200fa21ea644cf890525346f6abc62": {
          "model_module": "@jupyter-widgets/controls",
          "model_name": "FloatSliderModel",
          "model_module_version": "1.5.0",
          "state": {
            "_view_name": "FloatSliderView",
            "style": "IPY_MODEL_828014c68ba0447f90a5b6a2a9d7d307",
            "_dom_classes": [],
            "description": "slope",
            "step": 0.5,
            "_model_name": "FloatSliderModel",
            "orientation": "horizontal",
            "max": 8,
            "_view_module": "@jupyter-widgets/controls",
            "_model_module_version": "1.5.0",
            "value": 2,
            "_view_count": null,
            "disabled": false,
            "_view_module_version": "1.5.0",
            "min": -8,
            "continuous_update": true,
            "readout_format": ".2f",
            "description_tooltip": null,
            "readout": true,
            "_model_module": "@jupyter-widgets/controls",
            "layout": "IPY_MODEL_86f6e3ee8134443c8ed834976f27913d"
          }
        },
        "0a688b12202d4f188c98f510f7889126": {
          "model_module": "@jupyter-widgets/controls",
          "model_name": "FloatSliderModel",
          "model_module_version": "1.5.0",
          "state": {
            "_view_name": "FloatSliderView",
            "style": "IPY_MODEL_7dea3e69fc354f0093092de591713ad4",
            "_dom_classes": [],
            "description": "intercept",
            "step": 0.5,
            "_model_name": "FloatSliderModel",
            "orientation": "horizontal",
            "max": 15,
            "_view_module": "@jupyter-widgets/controls",
            "_model_module_version": "1.5.0",
            "value": 6,
            "_view_count": null,
            "disabled": false,
            "_view_module_version": "1.5.0",
            "min": -15,
            "continuous_update": true,
            "readout_format": ".2f",
            "description_tooltip": null,
            "readout": true,
            "_model_module": "@jupyter-widgets/controls",
            "layout": "IPY_MODEL_8be190253d664d51acf8e9e67f21b95f"
          }
        },
        "aa9ab84ce66b444484a8a44fd7c2d1a2": {
          "model_module": "@jupyter-widgets/output",
          "model_name": "OutputModel",
          "model_module_version": "1.0.0",
          "state": {
            "_view_name": "OutputView",
            "msg_id": "",
            "_dom_classes": [],
            "_model_name": "OutputModel",
            "outputs": [
              {
                "output_type": "stream",
                "name": "stdout",
                "text": [
                  "Age:  4.0 [Ma]\n"
                ]
              },
              {
                "output_type": "display_data",
                "data": {
                  "image/png": "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\n",
                  "text/plain": "<Figure size 720x432 with 1 Axes>"
                },
                "metadata": {
                  "needs_background": "light"
                }
              }
            ],
            "_view_module": "@jupyter-widgets/output",
            "_model_module_version": "1.0.0",
            "_view_count": null,
            "_view_module_version": "1.0.0",
            "layout": "IPY_MODEL_b8525c3bc14249feaf1477622d8bf9e9",
            "_model_module": "@jupyter-widgets/output"
          }
        },
        "828014c68ba0447f90a5b6a2a9d7d307": {
          "model_module": "@jupyter-widgets/controls",
          "model_name": "SliderStyleModel",
          "model_module_version": "1.5.0",
          "state": {
            "_view_name": "StyleView",
            "handle_color": null,
            "_model_name": "SliderStyleModel",
            "description_width": "",
            "_view_module": "@jupyter-widgets/base",
            "_model_module_version": "1.5.0",
            "_view_count": null,
            "_view_module_version": "1.2.0",
            "_model_module": "@jupyter-widgets/controls"
          }
        },
        "86f6e3ee8134443c8ed834976f27913d": {
          "model_module": "@jupyter-widgets/base",
          "model_name": "LayoutModel",
          "model_module_version": "1.2.0",
          "state": {
            "_view_name": "LayoutView",
            "grid_template_rows": null,
            "right": null,
            "justify_content": null,
            "_view_module": "@jupyter-widgets/base",
            "overflow": null,
            "_model_module_version": "1.2.0",
            "_view_count": null,
            "flex_flow": null,
            "width": null,
            "min_width": null,
            "border": null,
            "align_items": null,
            "bottom": null,
            "_model_module": "@jupyter-widgets/base",
            "top": null,
            "grid_column": null,
            "overflow_y": null,
            "overflow_x": null,
            "grid_auto_flow": null,
            "grid_area": null,
            "grid_template_columns": null,
            "flex": null,
            "_model_name": "LayoutModel",
            "justify_items": null,
            "grid_row": null,
            "max_height": null,
            "align_content": null,
            "visibility": null,
            "align_self": null,
            "height": null,
            "min_height": null,
            "padding": null,
            "grid_auto_rows": null,
            "grid_gap": null,
            "max_width": null,
            "order": null,
            "_view_module_version": "1.2.0",
            "grid_template_areas": null,
            "object_position": null,
            "object_fit": null,
            "grid_auto_columns": null,
            "margin": null,
            "display": null,
            "left": null
          }
        },
        "7dea3e69fc354f0093092de591713ad4": {
          "model_module": "@jupyter-widgets/controls",
          "model_name": "SliderStyleModel",
          "model_module_version": "1.5.0",
          "state": {
            "_view_name": "StyleView",
            "handle_color": null,
            "_model_name": "SliderStyleModel",
            "description_width": "",
            "_view_module": "@jupyter-widgets/base",
            "_model_module_version": "1.5.0",
            "_view_count": null,
            "_view_module_version": "1.2.0",
            "_model_module": "@jupyter-widgets/controls"
          }
        },
        "8be190253d664d51acf8e9e67f21b95f": {
          "model_module": "@jupyter-widgets/base",
          "model_name": "LayoutModel",
          "model_module_version": "1.2.0",
          "state": {
            "_view_name": "LayoutView",
            "grid_template_rows": null,
            "right": null,
            "justify_content": null,
            "_view_module": "@jupyter-widgets/base",
            "overflow": null,
            "_model_module_version": "1.2.0",
            "_view_count": null,
            "flex_flow": null,
            "width": null,
            "min_width": null,
            "border": null,
            "align_items": null,
            "bottom": null,
            "_model_module": "@jupyter-widgets/base",
            "top": null,
            "grid_column": null,
            "overflow_y": null,
            "overflow_x": null,
            "grid_auto_flow": null,
            "grid_area": null,
            "grid_template_columns": null,
            "flex": null,
            "_model_name": "LayoutModel",
            "justify_items": null,
            "grid_row": null,
            "max_height": null,
            "align_content": null,
            "visibility": null,
            "align_self": null,
            "height": null,
            "min_height": null,
            "padding": null,
            "grid_auto_rows": null,
            "grid_gap": null,
            "max_width": null,
            "order": null,
            "_view_module_version": "1.2.0",
            "grid_template_areas": null,
            "object_position": null,
            "object_fit": null,
            "grid_auto_columns": null,
            "margin": null,
            "display": null,
            "left": null
          }
        },
        "b8525c3bc14249feaf1477622d8bf9e9": {
          "model_module": "@jupyter-widgets/base",
          "model_name": "LayoutModel",
          "model_module_version": "1.2.0",
          "state": {
            "_view_name": "LayoutView",
            "grid_template_rows": null,
            "right": null,
            "justify_content": null,
            "_view_module": "@jupyter-widgets/base",
            "overflow": null,
            "_model_module_version": "1.2.0",
            "_view_count": null,
            "flex_flow": null,
            "width": null,
            "min_width": null,
            "border": null,
            "align_items": null,
            "bottom": null,
            "_model_module": "@jupyter-widgets/base",
            "top": null,
            "grid_column": null,
            "overflow_y": null,
            "overflow_x": null,
            "grid_auto_flow": null,
            "grid_area": null,
            "grid_template_columns": null,
            "flex": null,
            "_model_name": "LayoutModel",
            "justify_items": null,
            "grid_row": null,
            "max_height": null,
            "align_content": null,
            "visibility": null,
            "align_self": null,
            "height": null,
            "min_height": null,
            "padding": null,
            "grid_auto_rows": null,
            "grid_gap": null,
            "max_width": null,
            "order": null,
            "_view_module_version": "1.2.0",
            "grid_template_areas": null,
            "object_position": null,
            "object_fit": null,
            "grid_auto_columns": null,
            "margin": null,
            "display": null,
            "left": null
          }
        }
      }
    }
  },
  "cells": [
    {
      "cell_type": "markdown",
      "metadata": {
        "id": "view-in-github",
        "colab_type": "text"
      },
      "source": [
        "<a href=\"https://colab.research.google.com/github/skerryvore/regression_analysis_101/blob/master/notebooks/interactive_isochron_demo.ipynb\" target=\"_parent\"><img src=\"https://colab.research.google.com/assets/colab-badge.svg\" alt=\"Open In Colab\"/></a>"
      ]
    },
    {
      "cell_type": "markdown",
      "metadata": {
        "id": "pO7PmFwscklh"
      },
      "source": [
        "# Interactive Isochron\n",
        "\n",
        "\n",
        "## Just run the code...\n",
        "If you just want to skip the introduction stuff and run the code, just click Runtime->Run All in the main Colab menu bar above (if you are running this on Google Colab)...scroll down to see the isochron plot, and adjust the controls as you wish.\n",
        "\n",
        "If you are running the notebook on Binder (or in Jupyter notebooks) just click to select the code cell, and click Run, or press Shift-Enter.\n",
        "\n",
        "A model isochron diagram of some synthetic x and y data and a default isochron (straight line model) will be generated and appear below the code cell. Use the interactive sliders located above the isochron diagram to adjust the slope and intercept of the isochron line so that it fits the observed data as closely as possible.\n",
        "\n",
        "[add regression stats to plot and use real data to get age..Makganyene kimberlite data]\n",
        "\n",
        "\n",
        "## What is an isochron?\n",
        "\n",
        "The rate of change of the number, $N$, of atoms of a radioactive isotope that remains is proportional to the number of atoms present at any time, $t$;\n",
        "\n",
        "\\begin{align}\n",
        "\\frac{dN}{dt} \\propto N_t\n",
        "\\end{align}\n",
        "\n",
        "The decay constant of the radioactive isotope, usually denoted by the Greek symbol $\\lambda$, is the constant of  proportionality, and so we can write;\n",
        "\n",
        "\\begin{align}\n",
        "\\frac{dN}{dt} = -\\lambda N_t\n",
        "\\end{align}\n",
        "\n",
        "with the negative sign indicating that the rate of change is negative, i.e. there are less atoms left as time progresses.\n",
        "\n",
        "To solve this differential equation so we can calculate the values of $N$ at any time time, we need to rearrange the equation so we have terms with $N$ on the left and $t$ on the right, and then integrate both sides;\n",
        "\n",
        "\\begin{align}\n",
        "\\frac{dN}{N_t} = -\\lambda dt\n",
        "\\end{align}\n",
        "\n",
        "\\begin{align}\n",
        "\\int_{N_0}^{N_t} \\frac{dN}{N_t} = -\\lambda \\int_{t_0}^{t}dt\n",
        "\\end{align}\n",
        "\n",
        "The integral of $1/x$ is just $\\ln(x)$, so solving the definite integrals (i.e. integral between the limits shown, where $t_0$ and $N_0$ are the initial time and intial number of atoms at time $t_0$, respectively, gives;\n",
        "\n",
        "\\begin{align}\n",
        "\\left [\\ln({N_t})\\right] - \\left[ln({N_0})\\right] = \\\n",
        "-\\lambda \\left[t - t_0 \\right]\n",
        "\\end{align}\n",
        "\n",
        "and noting that $ln(x) -\\ln(y) = \\ln(x/y)$ we can rearrange the solution equation to give;\n",
        "\n",
        "\\begin{align}\n",
        "\\ln \\left(\\frac{N_t}{N_0}\\right) = -\\lambda(t - t_0)\n",
        "\\end{align}\n",
        "\n",
        "and if we assume that the system starts at time $t_0$ then $t_0=0$ and taking the log of both sides we can simplify the equation to give;\n",
        "\n",
        "\\begin{align}\n",
        "N_t = N_0 e^{-\\lambda t}\n",
        "\\end{align}\n",
        "\n",
        "In geological systems we usually (always?) don't know how many atoms we started with, so we don't know the value of $N_0$. However, we can measure the number of radioactive parent atoms remaining, $N_t$ and we can also measure the number of atoms of any stable radiogenic daughter isotopes that were produced by decay, let's call that value $D^*$.\n",
        "\n",
        "The relationship between the number of daughter atoms present, $D^*$, and the initial number of parent atoms, $N_0$ is;\n",
        "\n",
        "\\begin{align}\n",
        "D^* = N_0 - N_t\n",
        "\\end{align}\n",
        "\n",
        "and rearranging our equation above, we get;\n",
        "\n",
        "\\begin{align}\n",
        "N_0 = N_t e^{\\lambda t}\n",
        "\\end{align}\n",
        "\n",
        "and so;\n",
        "\n",
        "\\begin{align}\n",
        "D^*= N_t e^{\\lambda t} - N_t\n",
        "\\end{align}\n",
        "\n",
        "which simplifies further to yield;\n",
        "\n",
        "\\begin{align}\n",
        "D^*= N_t (e^{\\lambda t} - 1)\n",
        "\\end{align}\n",
        "\n",
        "If we allow for the fact that our sample may contain an unknown initial amount of the daughter isotopes, let's call that $D_0$, then the equation becomes;\n",
        "\n",
        "\n",
        "\\begin{align}\n",
        "D^* = D_0 + N_t (e^{\\lambda t} - 1)\n",
        "\\end{align}\n",
        "\n",
        "Now, we are nearly there! The above equation looks exactly like the equation for a straight line;\n",
        "\n",
        "\\begin{align}\n",
        "y = mx +c\n",
        "\\end{align}\n",
        "\n",
        "where;\n",
        "\n",
        "\\begin{align}\n",
        "D^*= y\\\\\n",
        "D_0=c\\\\\n",
        "N_t=x\\\\\n",
        "(e^{\\lambda t} - 1)= m\n",
        "\\end{align}\n",
        "\n",
        "So if we measured the amount of daughter isotope, $D^*$ and remaining parent isotope, $N_t$, in a number of samples from a given rock exposure, we could constuct a simple $x,y$ graph by plotting the values of $N_t$ on the $x$ axis and the values of $D^*$ on the $y$ axis. If our rock behaved as a closed system (no loss or gain of parent and/or daugher isotopes) then the data points should plot along a straight line, with the slope of the line being equal to;\n",
        "\n",
        "\\begin{align}\n",
        "slope, m= (e^{\\lambda t} - 1)\n",
        "\\end{align}\n",
        "\n",
        "Rearranging this equation allows us to calculate the age, $t$ after we determine the slope of the isochron line;\n",
        "\n",
        "\\begin{align}\n",
        " t = \\ln \\left (\\frac{m+1}{\\lambda}\\right)\n",
        "\\end{align}\n",
        "\n",
        "So we can determine the age of a rock by measuring some isotope abundance values in several samples and constructing an isochron diagram. Then we can determine the slope of the line and the initial isotopic ratio using linear regression (see regression examples).\n",
        "\n",
        "One of the earliest systems used to date rocks was the Rb-Sr system, where \n",
        "$^{87}\\mathrm{Rb}$ is the parent isotope that decays to produce $^{87}\\mathrm{Sr}$. We can write an isochron equation for this system using the example derived above;\n",
        "\n",
        "\\begin{align}\n",
        "^{87}\\mathrm{Sr^*}= ^{87}\\mathrm{Sr_0} + ^{87}\\mathrm{Rb}(e^{\\lambda t }-1)\n",
        "\\end{align}\n",
        "\n",
        "In practice it is easier and more accurate to measure isotopic ratios rather than absolute abundance, and for the Rb-Sr system we can use the stable isotope of $^{86}\\mathrm{Sr}$ as a reference. Our final isochron equation therefore looks like this;\n",
        "\n",
        "\\begin{align}\n",
        "\\left(\\frac{^{87}\\mathrm{Sr}}{^{86}\\mathrm{Sr}} \\right)_t = \\\n",
        "\\left(\\frac{^{87}\\mathrm{Sr}}{^{86}\\mathrm{Sr}} \\right)_0 + \\\n",
        "\\left(\\frac{^{87}\\mathrm{Rr}}{^{86}\\mathrm{Sr}}) \\right)_t (e^{\\lambda t }-1)\n",
        "\\end{align}\n",
        "\n",
        "and we would plot the $\\left(\\frac{^{87}\\mathrm{Sr}}{^{86}\\mathrm{Sr}} \\right)_t$ ratio on the $y$ axis and the $\\left(\\frac{^{87}\\mathrm{Rr}}{^{86}\\mathrm{Sr}}) \\right)_t$ ratio on the $x$ axis. Then we can determine the slope of a straight line that fits the data which allows us to calculate the age, and the intercept of the straight line with the $y$ axis gives us $\\left(\\frac{^{87}\\mathrm{Sr}}{^{86}\\mathrm{Sr}} \\right)_0$.\n",
        "\n",
        "Job done.\n",
        "\n",
        "\n"
      ]
    },
    {
      "cell_type": "markdown",
      "metadata": {
        "id": "SHKEZut_er4y"
      },
      "source": [
        ""
      ]
    },
    {
      "cell_type": "markdown",
      "metadata": {
        "id": "CNJrl_AIeTwD"
      },
      "source": [
        ""
      ]
    },
    {
      "cell_type": "code",
      "metadata": {
        "colab": {
          "base_uri": "https://localhost:8080/",
          "height": 493,
          "referenced_widgets": [
            "c62a9910eca44daeb8fc6594c894f640",
            "57a14ab356be468a80ce150d36304962",
            "9b200fa21ea644cf890525346f6abc62",
            "0a688b12202d4f188c98f510f7889126",
            "aa9ab84ce66b444484a8a44fd7c2d1a2",
            "828014c68ba0447f90a5b6a2a9d7d307",
            "86f6e3ee8134443c8ed834976f27913d",
            "7dea3e69fc354f0093092de591713ad4",
            "8be190253d664d51acf8e9e67f21b95f",
            "b8525c3bc14249feaf1477622d8bf9e9"
          ]
        },
        "id": "cuiFiHEKcklz",
        "outputId": "6c4ec4f9-6096-40be-9241-15ebe886d9c4"
      },
      "source": [
        "'''\n",
        "Example of interactive plot using ipywidgets interact function\n",
        "\n",
        "Plots a set of x y valye pairs with some random noise on y,\n",
        "then allows the parameters of a straight line to be adjusted\n",
        "using interactive slider widgets.\n",
        "                                       Roderick Brown 12/4/20\n",
        "'''\n",
        "%matplotlib inline\n",
        "\n",
        "# Import required packages\n",
        "from ipywidgets import interact\n",
        "import matplotlib.pyplot as plt\n",
        "import numpy as np\n",
        "\n",
        "# Define function to plot data and straight line\n",
        "def xyline(slope,intercept):\n",
        "     npoints = 12\n",
        "     xmin = 0.5\n",
        "     xmax = 10.0\n",
        "     sy = 3. # Set stddev of normal distribution to draw y valu errors from \n",
        "     m = 2.0 # Set slope for synthetc data\n",
        "     c = 8.  # Set intercept for synthetic data\n",
        "    \n",
        "     np.random.seed(12345) # set random seed so repeated runs are identical\n",
        "     xdata = np.linspace(xmin,xmax-0.4,npoints)\n",
        "     yerr = np.random.normal(scale=sy,size=len(xdata))\n",
        "     ydata = xdata*m + c + yerr\n",
        "         \n",
        "     plt.figure(1, figsize=(10, 6))\n",
        "     # Set x and y values for interactive line to plot\n",
        "     x = np.linspace(0, 10, num=100)\n",
        "     y = x*slope + intercept\n",
        "     \n",
        "     print ('Age: ',slope*2, '[Ma]') # this is just a holding situation...fix age and add real data\n",
        "     \n",
        "     # Plot data points\n",
        "     style_data = {'marker':'o','markersize':6, 'markerfacecolor':'w', 'markeredgecolor':'k',\\\n",
        "              'elinewidth':1.5,'linewidth':0, 'label':'data'}\n",
        "     \n",
        "     plt.errorbar(xdata,ydata,2*sy,**style_data)\n",
        "    \n",
        "     # Plot the straight line\n",
        "     plt.plot(x, (x*slope+intercept),'r-',label='isochron line')\n",
        "    \n",
        "     plt.ylim(-10, 40)\n",
        "     plt.xlim(0, xmax)\n",
        "     plt.xlabel('87Rb/86Sr')\n",
        "     plt.ylabel('87Sr/86Sr')\n",
        "     plt.legend(loc='upper left')\n",
        "     plt.show()\n",
        " \n",
        "# Call the function using ipywidgets interact\n",
        "interact(xyline,slope=(-8.0,8.0,0.5), intercept=(-15, 15, 0.5))\n",
        "\n"
      ],
      "execution_count": 5,
      "outputs": [
        {
          "output_type": "display_data",
          "data": {
            "application/vnd.jupyter.widget-view+json": {
              "model_id": "c62a9910eca44daeb8fc6594c894f640",
              "version_minor": 0,
              "version_major": 2
            },
            "text/plain": [
              "interactive(children=(FloatSlider(value=0.0, description='slope', max=8.0, min=-8.0, step=0.5), FloatSlider(va…"
            ]
          },
          "metadata": {}
        },
        {
          "output_type": "execute_result",
          "data": {
            "text/plain": [
              "<function __main__.xyline>"
            ]
          },
          "metadata": {},
          "execution_count": 5
        }
      ]
    },
    {
      "cell_type": "markdown",
      "metadata": {
        "id": "fJdsRa3Od43q"
      },
      "source": [
        ""
      ]
    },
    {
      "cell_type": "code",
      "metadata": {
        "id": "MNoF-Q_cckl2"
      },
      "source": [
        ""
      ],
      "execution_count": 5,
      "outputs": []
    },
    {
      "cell_type": "code",
      "metadata": {
        "id": "eBUwhY8fckl3"
      },
      "source": [
        ""
      ],
      "execution_count": 5,
      "outputs": []
    }
  ]
}